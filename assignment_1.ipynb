{
 "cells": [
  {
   "cell_type": "code",
   "execution_count": 1,
   "id": "d19fab08-4a3d-4ceb-97ba-1af58770ccd3",
   "metadata": {},
   "outputs": [],
   "source": [
    "# Question 1 - variable containing string\n",
    "a=\"sahil\""
   ]
  },
  {
   "cell_type": "code",
   "execution_count": 2,
   "id": "56ec678c-00c7-4424-9043-7f5b361001ee",
   "metadata": {},
   "outputs": [
    {
     "data": {
      "text/plain": [
       "'sahil'"
      ]
     },
     "execution_count": 2,
     "metadata": {},
     "output_type": "execute_result"
    }
   ],
   "source": [
    "a"
   ]
  },
  {
   "cell_type": "code",
   "execution_count": 3,
   "id": "36b50efa-b593-4a44-aa4b-271d8376b43e",
   "metadata": {},
   "outputs": [
    {
     "data": {
      "text/plain": [
       "str"
      ]
     },
     "execution_count": 3,
     "metadata": {},
     "output_type": "execute_result"
    }
   ],
   "source": [
    "type(a)"
   ]
  },
  {
   "cell_type": "code",
   "execution_count": 7,
   "id": "3fcecc45-0cb0-4973-bd59-d89fb426e593",
   "metadata": {},
   "outputs": [],
   "source": [
    "# variable containing list\n",
    "b=[1,2,4,5.67,4+3j,True]"
   ]
  },
  {
   "cell_type": "code",
   "execution_count": 8,
   "id": "88dbdb0b-30ef-404e-ab34-b956b5b7ff0c",
   "metadata": {},
   "outputs": [
    {
     "data": {
      "text/plain": [
       "list"
      ]
     },
     "execution_count": 8,
     "metadata": {},
     "output_type": "execute_result"
    }
   ],
   "source": [
    "type(b)"
   ]
  },
  {
   "cell_type": "code",
   "execution_count": 9,
   "id": "146985c3-b2bb-4edc-9c77-bae3688f8fd6",
   "metadata": {},
   "outputs": [],
   "source": [
    "# variable containing float\n",
    "c=6.777"
   ]
  },
  {
   "cell_type": "code",
   "execution_count": 10,
   "id": "8ef0467a-af46-4133-ab0a-ae10844a5f6a",
   "metadata": {},
   "outputs": [
    {
     "data": {
      "text/plain": [
       "float"
      ]
     },
     "execution_count": 10,
     "metadata": {},
     "output_type": "execute_result"
    }
   ],
   "source": [
    "type(c)"
   ]
  },
  {
   "cell_type": "code",
   "execution_count": 11,
   "id": "68cf30c2-94ca-4785-8436-e3d56b86aa58",
   "metadata": {},
   "outputs": [],
   "source": [
    "# variable containing tuple\n",
    "d=(1,2,4,5.67,4+3j,True)"
   ]
  },
  {
   "cell_type": "code",
   "execution_count": 12,
   "id": "4937ffe6-795b-459e-83cc-3dc6a816dd17",
   "metadata": {},
   "outputs": [
    {
     "data": {
      "text/plain": [
       "tuple"
      ]
     },
     "execution_count": 12,
     "metadata": {},
     "output_type": "execute_result"
    }
   ],
   "source": [
    "type(d)"
   ]
  },
  {
   "cell_type": "code",
   "execution_count": 23,
   "id": "226cad14-b7e7-4eaf-95eb-571de1dd925e",
   "metadata": {},
   "outputs": [],
   "source": [
    "#Question 2-\n",
    "var1 = ''"
   ]
  },
  {
   "cell_type": "code",
   "execution_count": 24,
   "id": "688b3a70-cbd6-4f10-9e5e-6cf7cf572ec9",
   "metadata": {},
   "outputs": [
    {
     "data": {
      "text/plain": [
       "str"
      ]
     },
     "execution_count": 24,
     "metadata": {},
     "output_type": "execute_result"
    }
   ],
   "source": [
    "type(var1)"
   ]
  },
  {
   "cell_type": "code",
   "execution_count": 25,
   "id": "0b30d785-b542-4780-bf1b-10d2218fc0aa",
   "metadata": {},
   "outputs": [],
   "source": [
    "var2 = '[ DS , ML , Python]'"
   ]
  },
  {
   "cell_type": "code",
   "execution_count": 26,
   "id": "7087541c-cde9-4514-affc-8c5020bc39a5",
   "metadata": {},
   "outputs": [
    {
     "data": {
      "text/plain": [
       "str"
      ]
     },
     "execution_count": 26,
     "metadata": {},
     "output_type": "execute_result"
    }
   ],
   "source": [
    "type(var2)"
   ]
  },
  {
   "cell_type": "code",
   "execution_count": 28,
   "id": "35b4b1f4-ff49-44e6-a9d7-76920e441544",
   "metadata": {},
   "outputs": [],
   "source": [
    "var3 = [ 'DS' , 'ML' , 'Python' ]"
   ]
  },
  {
   "cell_type": "code",
   "execution_count": 29,
   "id": "0204fd18-a533-4273-856f-411591271164",
   "metadata": {},
   "outputs": [
    {
     "data": {
      "text/plain": [
       "list"
      ]
     },
     "execution_count": 29,
     "metadata": {},
     "output_type": "execute_result"
    }
   ],
   "source": [
    "type(var3)"
   ]
  },
  {
   "cell_type": "code",
   "execution_count": 30,
   "id": "374238bd-2804-4bef-9d4e-675473e46708",
   "metadata": {},
   "outputs": [],
   "source": [
    "var4 = 1"
   ]
  },
  {
   "cell_type": "code",
   "execution_count": 31,
   "id": "a7651813-61a7-457d-b8df-8b4e2fe2e45c",
   "metadata": {},
   "outputs": [
    {
     "data": {
      "text/plain": [
       "int"
      ]
     },
     "execution_count": 31,
     "metadata": {},
     "output_type": "execute_result"
    }
   ],
   "source": [
    "type(var4)"
   ]
  },
  {
   "cell_type": "code",
   "execution_count": 1,
   "id": "fff752b9-39d9-49a4-a19e-76a743800be1",
   "metadata": {},
   "outputs": [],
   "source": [
    "# Question 3-Q3. Explain the use of the following operators using an example:\n",
    "# (i) /\n",
    "\n",
    "# its gives us the division"
   ]
  },
  {
   "cell_type": "code",
   "execution_count": 9,
   "id": "94ad7026-0c97-4a99-801e-d5e069b2f76b",
   "metadata": {},
   "outputs": [
    {
     "data": {
      "text/plain": [
       "2.0"
      ]
     },
     "execution_count": 9,
     "metadata": {},
     "output_type": "execute_result"
    }
   ],
   "source": [
    "a=10\n",
    "b=5\n",
    "(a/b)"
   ]
  },
  {
   "cell_type": "code",
   "execution_count": 3,
   "id": "07e85bf7-229f-4c65-b368-9a2de803da74",
   "metadata": {},
   "outputs": [],
   "source": [
    "# (ii) %\n",
    "# it gives us the remainder of division\n"
   ]
  },
  {
   "cell_type": "code",
   "execution_count": 4,
   "id": "fb88f2dd-61f4-4d56-9dd6-94d32e752e0c",
   "metadata": {},
   "outputs": [
    {
     "name": "stdout",
     "output_type": "stream",
     "text": [
      "0\n"
     ]
    }
   ],
   "source": [
    "a%b"
   ]
  },
  {
   "cell_type": "code",
   "execution_count": 5,
   "id": "16266938-316a-47db-8239-f5f2895b46d8",
   "metadata": {},
   "outputs": [],
   "source": [
    "# (iii) //\n",
    "# it gives us the quoteint of division"
   ]
  },
  {
   "cell_type": "code",
   "execution_count": 6,
   "id": "3b7c44ef-d609-496b-91f2-6567c732334f",
   "metadata": {},
   "outputs": [
    {
     "data": {
      "text/plain": [
       "2"
      ]
     },
     "execution_count": 6,
     "metadata": {},
     "output_type": "execute_result"
    }
   ],
   "source": [
    "a//b"
   ]
  },
  {
   "cell_type": "code",
   "execution_count": 7,
   "id": "326c0df7-84bd-4241-8aac-7d183fee9783",
   "metadata": {},
   "outputs": [],
   "source": [
    "# (iv) **"
   ]
  },
  {
   "cell_type": "code",
   "execution_count": 8,
   "id": "ba1b783f-fe0a-495d-9ca7-f70aacf3026d",
   "metadata": {},
   "outputs": [
    {
     "data": {
      "text/plain": [
       "100000"
      ]
     },
     "execution_count": 8,
     "metadata": {},
     "output_type": "execute_result"
    }
   ],
   "source": [
    "a**b #its exponential operator"
   ]
  },
  {
   "cell_type": "code",
   "execution_count": 10,
   "id": "997bb8f5-157a-4b77-b15a-2e5a89541302",
   "metadata": {},
   "outputs": [],
   "source": [
    "# Question 4-Create a list of length 10 of your choice containing multiple types of data. Using for loop print the\n",
    "# element and its data type."
   ]
  },
  {
   "cell_type": "code",
   "execution_count": null,
   "id": "0c75e2e7-016b-4b98-9b0b-1a312e956c9b",
   "metadata": {
    "tags": []
   },
   "outputs": [],
   "source": [
    "my_list=[5,7.88,8.947,9+4j,True,False,57,9.3267,723,90]\n",
    "\n",
    "for i in my_list :\n",
    "    print(i)\n",
    "    print(type(i))\n",
    "    i=i+1"
   ]
  },
  {
   "cell_type": "code",
   "execution_count": null,
   "id": "ec7bcd2b-8fd0-45b7-aa7a-09a111542a78",
   "metadata": {},
   "outputs": [],
   "source": [
    "# question 5- Using a while loop, verify if the number A is purely divisible by number B and if so then how many\n",
    "# times it can be divisible."
   ]
  },
  {
   "cell_type": "code",
   "execution_count": null,
   "id": "5333d4d0-a5d5-4810-806c-6c10bf90b1d6",
   "metadata": {},
   "outputs": [],
   "source": [
    "A=int(input('enter the value of A :'))\n",
    "B=int(input('enter the value of B :'))\n",
    "\n",
    "count=0\n",
    "\n",
    "while A>=B:\n",
    "    A =A-B\n",
    "    count=count+1\n",
    "    \n",
    "if(A%B==0):\n",
    "    print(A, \"is divisible by\",B ,\"by\",count, \"times.\")\n",
    "else:\n",
    "    print(A ,\"is not divisible by\",B)"
   ]
  },
  {
   "cell_type": "code",
   "execution_count": null,
   "id": "38a63662-66ab-4852-b8bd-56c43349937f",
   "metadata": {},
   "outputs": [],
   "source": [
    "# Q6. Create a list containing 25 int type data. Using for loop and if-else condition print if the element is\n",
    "# divisible by 3 or not.\n",
    "\n",
    "my_list=[67,2,3,4,5,6,7,8,9,10,11,12,13,14,15,16,17,18,19,20,21,22,23,24,25]\n",
    "\n",
    "for i in my_list:\n",
    "    if(i%3==0):\n",
    "        print(i,\"is divisible by 3\")\n",
    "    else:\n",
    "        print(i,\"is not divisible by 3\")"
   ]
  },
  {
   "cell_type": "code",
   "execution_count": null,
   "id": "fec3b144-4f7e-463b-89c9-affc3ea659bf",
   "metadata": {},
   "outputs": [],
   "source": [
    "# Q7. What do you understand about mutable and immutable data types? Give examples for both showing\n",
    "# this property.\n",
    "\n",
    "# answer- mutable data types are those data types in which we can do changes or modifications in the elements.example-list \n",
    "# whereas in immutable data types we can't do any types of changes with the elements . example -tuple\n",
    "\n",
    "list=[1,2,3,4,5]\n",
    "print(list[2])\n",
    "# it will give us output as 3\n",
    "list[2]=456\n",
    "print(list[2])\n",
    "# now it will give us output as 456\n",
    "# hence we can say list is mutable data type\n"
   ]
  },
  {
   "cell_type": "code",
   "execution_count": null,
   "id": "475f2837-0936-4eb2-aa7c-40e0d402f7c5",
   "metadata": {},
   "outputs": [],
   "source": [
    "list=[1,2,3,4,5]\n",
    "print(list[2])\n",
    "# it will give us output as 3\n",
    "list[2]=456\n",
    "print(list[2])\n",
    "# now it will give us output as 456\n",
    "# hence we can say list is mutable data type"
   ]
  },
  {
   "cell_type": "code",
   "execution_count": null,
   "id": "1ec6b41f-3e75-4fba-a07f-d0ba19e21e01",
   "metadata": {},
   "outputs": [],
   "source": []
  }
 ],
 "metadata": {
  "kernelspec": {
   "display_name": "Python 3 (ipykernel)",
   "language": "python",
   "name": "python3"
  },
  "language_info": {
   "codemirror_mode": {
    "name": "ipython",
    "version": 3
   },
   "file_extension": ".py",
   "mimetype": "text/x-python",
   "name": "python",
   "nbconvert_exporter": "python",
   "pygments_lexer": "ipython3",
   "version": "3.10.8"
  }
 },
 "nbformat": 4,
 "nbformat_minor": 5
}
