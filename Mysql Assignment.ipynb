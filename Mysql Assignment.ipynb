{
 "cells": [
  {
   "cell_type": "code",
   "execution_count": null,
   "id": "1e37f225-b194-4b0a-a0fd-88b6b6719858",
   "metadata": {},
   "outputs": [],
   "source": [
    "'''Q1. What is a database? Differentiate between SQL and NoSQL databases.'''\n",
    "\n",
    "'''Database is a storing application which stores our desired outputs.\n",
    "\n",
    "there are two types of database \n",
    "\n",
    "1. SQL - in SQL database , the output is stored in Tabular form .\n",
    "\n",
    "2. NOSQL - in NOSQL database , the output is stored as dictionaries and \n",
    "           that is referred as documents .'''"
   ]
  },
  {
   "cell_type": "code",
   "execution_count": null,
   "id": "879f6fea-c307-4d5b-b0ea-d95c02345634",
   "metadata": {},
   "outputs": [],
   "source": [
    "'''Q2. What is DDL? Explain why CREATE, DROP, ALTER, and TRUNCATE are used with an example.'''\n",
    "\n",
    "'''DDL is data define language , it is used to define objects in database such as tables ,etc.\n",
    "it is used create ,modify , delete tables in a database'''\n",
    "\n",
    "'''-- 1.CREATE_\n",
    "CREATE DATABASE if  not exists creating_databse ;\n",
    "\n",
    "CREATE TABLE if not exists creating_databse.students(name VARCHAR(30) , class INT);\n",
    "\n",
    "CREATE TABLE if not exists creating_databse.employe(age INT , academic_qualification VARCHAR(45));\n",
    "\n",
    "-- 2.DROP-\n",
    "DROP TABLE if exists creating_databse.employe;\n",
    "\n",
    "-- 3. ALTER-\n",
    "\n",
    "ALTER TABLE  creating_databse.students\n",
    "\n",
    "ADD fav_subject VARCHAR(44);\n",
    "\n",
    "-- 4. TRUNCATE-\n",
    "\n",
    "TRUNCATE TABLE creating_databse.students; '''\n",
    "\n"
   ]
  },
  {
   "cell_type": "code",
   "execution_count": null,
   "id": "d4a0eabd-5ed1-4e4f-a7f7-f1839e7d78d9",
   "metadata": {},
   "outputs": [],
   "source": [
    "'''Q3. What is DML? Explain INSERT, UPDATE, and DELETE with an example.'''\n",
    "\n",
    "'''DML stands for data manipulation language which is a another subset of sql .\n",
    "it allows us to play with data like inserting , updating and deleting. '''\n",
    "\n",
    "'''-- 1.INSERT\n",
    "INSERT INTO creating_databse.students values('sahil' , 12 , 'maths');\n",
    "\n",
    "-- 2.UPDATE\n",
    "UPDATE creating_databse.students \n",
    "\n",
    "SET fav_subject = 'english'\n",
    "WHERE   name  = 'sahil' ;\n",
    "\n",
    "-- 3. DELETE\n",
    "DELETE from creating_databse.students\n",
    "WHERE name ='sahil';'''"
   ]
  },
  {
   "cell_type": "code",
   "execution_count": null,
   "id": "4caa3013-f773-4151-95c9-0fb1d43d5162",
   "metadata": {},
   "outputs": [],
   "source": [
    "'''Q4. What is DQL? Explain SELECT with an example.\n",
    "\n",
    "CREATE DATABASE dbase ;\n",
    "\n",
    "CREATE TABLE if not exists dbase.tbl (name VARCHAR(23) , class VARCHAR(23) , section VARCHAR(23)) ;\n",
    "\n",
    "insert into dbase.tbl values('sahil' , '9th' , 'B')  ;\n",
    "\n",
    "insert into dbase.tbl values('aman' , '8th' , 'C');\n",
    "insert into dbase.tbl values('dev' , '11th' , 'B');\n",
    "insert into dbase.tbl values('shalini' , '10th' , 'A');\n",
    "\n",
    "SELECT name, class\n",
    "\n",
    "FROM dbase.tbl'''"
   ]
  },
  {
   "cell_type": "code",
   "execution_count": null,
   "id": "e37b3d80-080a-4ad7-b828-be490274bbbf",
   "metadata": {},
   "outputs": [],
   "source": [
    "'''Q5. Explain Primary Key and Foreign Key.'''\n",
    "\n",
    "'''primary key - it is the first column of the table \n",
    "\n",
    "foreign key - it is the other columns of table'''"
   ]
  },
  {
   "cell_type": "code",
   "execution_count": 4,
   "id": "bb778526-f028-4353-8431-ff915124b0de",
   "metadata": {},
   "outputs": [
    {
     "data": {
      "text/plain": [
       "' Q6. Write a python code to connect MySQL to python. Explain the cursor() and execute() method.\\n\\nimport mysql.connector\\n\\nmydb= mysql.connector.connect(\\n    host =\\'localhost\\',\\n    user = \\'abc\\',\\n    password = \\'password\\'\\n\\n)\\n\\nmycursor= mydb.cursor()\\n\\nmycursor.execute(\"CREATE DATABaSE if not exists dbase1\")\\n\\ncursor() help us to create a cursor object to interact with database  \\nexecute() help us to execute sql based operations like creating table,\\n databses ,etc. '"
      ]
     },
     "execution_count": 4,
     "metadata": {},
     "output_type": "execute_result"
    }
   ],
   "source": [
    "''' Q6. Write a python code to connect MySQL to python. Explain the cursor() and execute() method.\n",
    "\n",
    "import mysql.connector\n",
    "\n",
    "mydb= mysql.connector.connect(\n",
    "    host ='localhost',\n",
    "    user = 'abc',\n",
    "    password = 'password'\n",
    "\n",
    ")\n",
    "\n",
    "mycursor= mydb.cursor()\n",
    "\n",
    "mycursor.execute(\"CREATE DATABaSE if not exists dbase1\")\n",
    "\n",
    "cursor() help us to create a cursor object to interact with database  \n",
    "execute() help us to execute sql based operations like creating table,\n",
    " databses ,etc. '''"
   ]
  },
  {
   "cell_type": "code",
   "execution_count": null,
   "id": "c7cb3a26-6d01-4706-ab88-a3878bd4784a",
   "metadata": {},
   "outputs": [],
   "source": [
    "'''Q7. Give the order of execution of SQL clauses in an SQL query.'''\n",
    "\n",
    "'''firstly SELECT id used to specify the column from which i am retireving data.\n",
    "then we use FROM clause to specify the table .\n",
    "then we use WHERE clause to apply  conditions or filter our desired result.'''"
   ]
  }
 ],
 "metadata": {
  "kernelspec": {
   "display_name": "Python 3 (ipykernel)",
   "language": "python",
   "name": "python3"
  },
  "language_info": {
   "codemirror_mode": {
    "name": "ipython",
    "version": 3
   },
   "file_extension": ".py",
   "mimetype": "text/x-python",
   "name": "python",
   "nbconvert_exporter": "python",
   "pygments_lexer": "ipython3",
   "version": "3.10.8"
  }
 },
 "nbformat": 4,
 "nbformat_minor": 5
}
