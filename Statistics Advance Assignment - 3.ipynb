{
 "cells": [
  {
   "cell_type": "code",
   "execution_count": null,
   "id": "d268a987-2480-453b-821d-77ba1b32e22f",
   "metadata": {},
   "outputs": [],
   "source": [
    "'''Q1: What is Estimation Statistics? Explain point estimate and interval estimate.'''\n",
    "\n",
    "'''Estimation is an observed  value to estimate an unknown population parameter\n",
    "\n",
    "point estimater\n",
    "\n",
    "a single value is observed to estimate the unknown population parameter \n",
    "\n",
    "interval estimater\n",
    "\n",
    "range of values is observed to estimate the unknown population parameter '''"
   ]
  },
  {
   "cell_type": "code",
   "execution_count": 1,
   "id": "61eccc6e-060d-4f86-a8c7-17bbf7b8a578",
   "metadata": {},
   "outputs": [
    {
     "name": "stdout",
     "output_type": "stream",
     "text": [
      "Population Mean Estimate: 50\n",
      "Confidence Interval: (48.04003601545995, 51.95996398454005)\n"
     ]
    }
   ],
   "source": [
    "'''Q2. Write a Python function to estimate the population mean using a sample mean and standard\n",
    "deviation.'''\n",
    "\n",
    "import scipy.stats as stats\n",
    "\n",
    "def estimate_population_mean(sample_mean, sample_std, sample_size, confidence_level=0.95):\n",
    "    \n",
    "    alpha = 1 - confidence_level\n",
    "    z_score = stats.norm.ppf(1 - alpha / 2) \n",
    "\n",
    "   \n",
    "    margin_of_error = z_score * (sample_std / (sample_size ** 0.5))\n",
    "\n",
    "   \n",
    "    lower_bound = sample_mean - margin_of_error\n",
    "    upper_bound = sample_mean + margin_of_error\n",
    "\n",
    "    return sample_mean, lower_bound, upper_bound\n",
    "\n",
    "\n",
    "sample_mean = 50  \n",
    "sample_std = 10   \n",
    "sample_size = 100 \n",
    "confidence_level = 0.95\n",
    "\n",
    "population_mean, lower_bound, upper_bound = estimate_population_mean(sample_mean, sample_std, sample_size, confidence_level)\n",
    "\n",
    "print(f\"Population Mean Estimate: {population_mean}\")\n",
    "print(f\"Confidence Interval: ({lower_bound}, {upper_bound})\")\n"
   ]
  },
  {
   "cell_type": "code",
   "execution_count": null,
   "id": "23f58ac3-6339-43f7-a3b9-d52deabcf2fc",
   "metadata": {},
   "outputs": [],
   "source": [
    "'''Q3: What is Hypothesis testing? Why is it used? State the importance of Hypothesis testing.'''\n",
    "\n",
    "'''hypothesis testing sequence of steps which help us to complete the main aim of inferential statistics that is \n",
    "making conclusions for the population data with the help of sample data.\n",
    "\n",
    "steps-\n",
    "\n",
    "1. null hypothesis (H0)- the assumption you are beginning with .\n",
    "\n",
    "2. alternate hypothesis (H1) - assumption opposite to the null hypothesis.\n",
    "\n",
    "3. experiment - doing the required experiment\n",
    "\n",
    "4. statistical analysis - it include finding important factors like P value , significance value,etc.\n",
    "\n",
    "it is so important because without hypothesis testing we can't conclude anything for population data.'''"
   ]
  },
  {
   "cell_type": "code",
   "execution_count": null,
   "id": "55a836f7-c98f-42d0-9486-a56d12d36fc1",
   "metadata": {},
   "outputs": [],
   "source": [
    "'''Q4. Create a hypothesis that states whether the average weight of male college students is greater than\n",
    "the average weight of female college students.'''\n",
    "\n",
    "'''null hypothesis- average weight of male college students is greater than\n",
    "                 the average weight of female college students.\n",
    "    \n",
    "alternate hypothesis - the average weight of male college students is not greater than\n",
    "                       the average weight of female college students '''    "
   ]
  },
  {
   "cell_type": "code",
   "execution_count": 4,
   "id": "db580655-1cf7-4f39-a057-05af7bbf3909",
   "metadata": {},
   "outputs": [
    {
     "name": "stdout",
     "output_type": "stream",
     "text": [
      "Fail to reject the null hypothesis: The population means are equal.\n",
      "T-statistic: -0.699120437763396\n",
      "P-value: 0.4872710075339982\n"
     ]
    }
   ],
   "source": [
    "'''Q5. Write a Python script to conduct a hypothesis test on the difference between two population means,\n",
    "given a sample from each population.'''\n",
    "\n",
    "\n",
    "sample_size = 30\n",
    "population1 = np.random.normal(0, 1, sample_size)  \n",
    "population2 = np.random.normal(0.5, 1, sample_size)  \n",
    "\n",
    "\n",
    "t_statistic, p_value = stats.ttest_ind(population1, population2)\n",
    "\n",
    "\n",
    "alpha = 0.05\n",
    "\n",
    "\n",
    "if p_value < alpha:\n",
    "    print(\"Reject the null hypothesis: The population means are not equal.\")\n",
    "else:\n",
    "    print(\"Fail to reject the null hypothesis: The population means are equal.\")\n",
    "\n",
    "\n",
    "print(f\"T-statistic: {t_statistic}\")\n",
    "print(f\"P-value: {p_value}\")"
   ]
  },
  {
   "cell_type": "code",
   "execution_count": null,
   "id": "4a6f034f-a562-4313-8e0e-896f2be2676e",
   "metadata": {},
   "outputs": [],
   "source": [
    "'''Q6: What is a null and alternative hypothesis? Give some examples.'''\n",
    "'''\n",
    "null hypothesis (H0)- the assumption you are beginning with .\n",
    "\n",
    "alternate hypothesis (H1) - assumption opposite to the null hypothesis.\n",
    "\n",
    "example-\n",
    "\n",
    "H0- average weight of studnets in class is 55\n",
    "H1- average weight of studnets in class is not 55\n",
    "\n",
    "H0-average water intake in a day of indians is 3 ltr\n",
    "H1-average water intake in a day of indians is not 3 ltr\n",
    "\n",
    "'''"
   ]
  },
  {
   "cell_type": "code",
   "execution_count": null,
   "id": "85e4a1f3-c496-43ca-b1ce-6c51fc63caf8",
   "metadata": {},
   "outputs": [],
   "source": [
    "'''Q7: Write down the steps involved in hypothesis testing.'''\n",
    "'''\n",
    "steps involved in hypothesis testing-\n",
    "\n",
    "1. null hypothesis (H0)- the assumption you are beginning with .\n",
    "\n",
    "2. alternate hypothesis (H1) - assumption opposite to the null hypothesis.\n",
    "\n",
    "3. experiment - doing the required experiment\n",
    "\n",
    "4. statistical analysis - it include finding important factors like P value , significance value,etc.\n",
    "\n",
    "5. whether to reject the null hypothesis or accept the null hypothesis\n",
    "'''"
   ]
  },
  {
   "cell_type": "code",
   "execution_count": null,
   "id": "e6fb5d9e-fc3f-447f-8616-2cda41a122d3",
   "metadata": {},
   "outputs": [],
   "source": [
    "'''Q8. Define p-value and explain its significance in hypothesis testing.'''\n",
    "\n",
    "'''p value is a number which we caculate from a statistical test which tells the probability of obtaining an observed result \n",
    "when the null hypothesis is true .\n",
    "\n",
    "it help us to decide whether to reject the null hypothesis or not.\n",
    "'''"
   ]
  },
  {
   "cell_type": "code",
   "execution_count": 9,
   "id": "216a59de-3dd4-45cf-8ca7-10fb21747ffe",
   "metadata": {},
   "outputs": [
    {
     "data": {
      "image/png": "[encoded data removed]",
      "text/plain": [
       "<Figure size 640x480 with 1 Axes>"
      ]
     },
     "metadata": {},
     "output_type": "display_data"
    }
   ],
   "source": [
    "'''Q9. Generate a Student's t-distribution plot using Python's matplotlib library, with the degrees of freedom\n",
    "parameter set to 10.'''\n",
    "\n",
    "import numpy as np\n",
    "import matplotlib.pyplot as plt\n",
    "from scipy.stats import t\n",
    "\n",
    "# Degrees of freedom\n",
    "df = 10\n",
    "\n",
    "# Generate x values\n",
    "x = np.linspace(-5, 5, 1000)\n",
    "\n",
    "# Calculate the probability density function (PDF) for the Student's t-distribution\n",
    "pdf = t.pdf(x, df)\n",
    "\n",
    "# Create the plot\n",
    "\n",
    "plt.plot(x, pdf, label=f'Student\\'s t-distribution (df={df})', color='blue')\n",
    "plt.title(f'Student\\'s t-distribution (df={df})')\n",
    "plt.xlabel('x')\n",
    "plt.ylabel('PDF')\n",
    "\n",
    "plt.grid(True)\n",
    "\n",
    "plt.show()\n"
   ]
  },
  {
   "cell_type": "code",
   "execution_count": 2,
   "id": "cadcf144-c230-4630-9e05-192bc142a54a",
   "metadata": {},
   "outputs": [
    {
     "name": "stdout",
     "output_type": "stream",
     "text": [
      "Fail to reject the null hypothesis: The population means are equal.\n",
      "t stats -1.9603547377074821\n",
      "p 0.05476368516949082\n"
     ]
    }
   ],
   "source": [
    "'''Q10. Write a Python program to calculate the two-sample t-test for independent samples, given two\n",
    "random samples of equal size and a null hypothesis that the population means are equal.'''\n",
    "\n",
    "import numpy as np \n",
    "\n",
    "from scipy import stats\n",
    "\n",
    "def twosample_ttest(s1,s2):\n",
    "    t_stats,p_value=stats.ttest_ind(s1,s2)\n",
    "    \n",
    "    return t_stats,p_value \n",
    "\n",
    "sample_size=30\n",
    "\n",
    "sample1 = np.random.normal(0, 1, sample_size)  \n",
    "sample2 = np.random.normal(0.5, 1, sample_size)\n",
    "\n",
    "t_stats,p_value=twosample_ttest(sample1,sample2)\n",
    "\n",
    "alpha = 0.05\n",
    "\n",
    "if p_value < alpha:\n",
    "    print(\"Reject the null hypothesis: The population means are not equal.\")\n",
    "else:\n",
    "    print(\"Fail to reject the null hypothesis: The population means are equal.\")\n",
    "    \n",
    "    \n",
    "print(\"t stats\",t_stats)\n",
    "print(\"p\",p_value)"
   ]
  },
  {
   "cell_type": "code",
   "execution_count": null,
   "id": "a5134a67-e5a3-40a8-a9a8-dbc9fdaeb00c",
   "metadata": {},
   "outputs": [],
   "source": [
    "'''Q11: What is Student’s t distribution? When to use the t-Distribution.'''\n",
    "\n",
    "'''Student’s t distribution is usually referred as t distribution which give normal probabilty dsitribution.\n",
    "\n",
    "we use t distribution when the sample size is small and population standard deviation is unknown,'''"
   ]
  },
  {
   "cell_type": "code",
   "execution_count": null,
   "id": "3227e82a-610b-49a7-9ae3-d78afaa960e9",
   "metadata": {},
   "outputs": [],
   "source": [
    "'''Q12: What is t-statistic? State the formula for t-statistic.'''\n",
    "\n",
    "'''t-stats is used in hypothesis testing and help us determining whether sample mean and population mean are statisically significant or not.\n",
    "\n",
    "formula-\n",
    "\n",
    "t score= x-μ/(s/root of n )\n",
    "\n",
    "when x is sample mean \n",
    "\n",
    "μ is population mean \n",
    "\n",
    "s is sample standard deviation \n",
    "\n",
    "n is sample size'''"
   ]
  },
  {
   "cell_type": "code",
   "execution_count": null,
   "id": "47773d09-db64-43e5-92a8-252873a7ec86",
   "metadata": {},
   "outputs": [],
   "source": [
    "'''Q13. A coffee shop owner wants to estimate the average daily revenue for their shop. They take a random\n",
    "sample of 50 days and find the sample mean revenue to be $500 with a standard deviation of $50.\n",
    "Estimate the population mean revenue with a 95% confidence interval.'''\n",
    "\n",
    "'''Population Mean Estimate= sample mean +- (sample std / squareroot of sample size)*critical value\n",
    "\n",
    "where sample mean = 500 \n",
    "sample std = 50 \n",
    "sample size = 50 \n",
    "\n",
    "degree of freedom = n-1 = 49 \n",
    "signficance value = 1-confidence interval = 0.05\n",
    "\n",
    "now calculating critical value by t table = 2.0096\n",
    "\n",
    "then put all these values in formula given above ,we get\n",
    "\n",
    "\n",
    "Population Mean= (485.79, 514.21) '''"
   ]
  },
  {
   "cell_type": "code",
   "execution_count": null,
   "id": "d17b6160-0a53-4d92-9991-483d40aebb33",
   "metadata": {},
   "outputs": [],
   "source": [
    "'''Q14. A researcher hypothesizes that a new drug will decrease blood pressure by 10 mmHg. They conduct a\n",
    "clinical trial with 100 patients and find that the sample mean decrease in blood pressure is 8 mmHg with a\n",
    "standard deviation of 3 mmHg. Test the hypothesis with a significance level of 0.05.'''\n",
    "'''\n",
    "\n",
    "H0: μ = 10\n",
    "Ha: μ ≠ 10\n",
    "\n",
    "Sample size (n) = 100\n",
    "Sample mean (x̄) = 8 mmHg\n",
    "Sample standard deviation (s) = 3 mmHg\n",
    "\n",
    "\n",
    "t= x−μ/(s/√n)\n",
    "\n",
    "t=-6.67\n",
    "\n",
    "hence by table , The critical values are approximately ±1.9845.\n",
    "\n",
    "Since -6.67 is much smaller (in absolute value) than -1.9845, we can reject the null hypothesis (H0).'''\n"
   ]
  },
  {
   "cell_type": "code",
   "execution_count": null,
   "id": "8c08277e-629d-4f1e-bbc0-d85c0f45579b",
   "metadata": {},
   "outputs": [],
   "source": [
    "'''Q15. An electronics company produces a certain type of product with a mean weight of 5 pounds and a\n",
    "standard deviation of 0.5 pounds. A random sample of 25 products is taken, and the sample mean weight\n",
    "is found to be 4.8 pounds. Test the hypothesis that the true mean weight of the products is less than 5\n",
    "pounds with a significance level of 0.01.'''\n",
    "\n",
    "'''\n",
    "H0: μ = 5\n",
    "Ha: μ < 5\n",
    "\n",
    "Sample size (n) = 25\n",
    "Sample mean (x̄) = 4.8 pounds\n",
    "Population standard deviation (σ) = 0.5 pounds\n",
    "\n",
    "t= x −μ/(σ/√n)\n",
    "\n",
    "t=−2\n",
    "\n",
    "dof=24\n",
    "significance value = 0.01\n",
    "\n",
    "hence critical value=-2.4922\n",
    "\n",
    "since its a left tail test\n",
    "\n",
    "hence we can say that Since -2 is greater than -2.4922, we fail to reject the null hypothesis \n",
    "\n",
    "we don't have enough evidence to say that true mean weight of the products is less than 5\n",
    "pounds with a significance level of 0.01'''\n",
    "\n"
   ]
  },
  {
   "cell_type": "code",
   "execution_count": null,
   "id": "5a9721d6-acdc-4171-ab49-9a42beb2851e",
   "metadata": {},
   "outputs": [],
   "source": [
    "'''Q16. Two groups of students are given different study materials to prepare for a test. The first group (n1 =\n",
    "30) has a mean score of 80 with a standard deviation of 10, and the second group (n2 = 40) has a mean\n",
    "score of 75 with a standard deviation of 8. Test the hypothesis that the population means for the two\n",
    "groups are equal with a significance level of 0.01.'''\n",
    "\n",
    "\n",
    "import numpy as np\n",
    "from scipy import stats\n",
    "\n",
    "# Sample statistics for group 1\n",
    "n1 = 30\n",
    "mean1 = 80\n",
    "std_dev1 = 10\n",
    "\n",
    "# Sample statistics for group 2\n",
    "n2 = 40\n",
    "mean2 = 75\n",
    "std_dev2 = 8\n",
    "\n",
    "# Significance level\n",
    "alpha = 0.01\n",
    "\n",
    "# Perform two-sample t-test\n",
    "t_statistic, p_value = stats.ttest_ind_from_stats(mean1, std_dev1, n1, mean2, std_dev2, n2, equal_var=False)\n",
    "\n",
    "\n",
    "if p_value < alpha:\n",
    "    print(\"Reject the null hypothesis: The population means are not equal.\")\n",
    "else:\n",
    "    print(\"Fail to reject the null hypothesis: The population means are equal.\")\n",
    "\n",
    "\n",
    "print(f\"T-statistic: {t_statistic}\")\n",
    "print(f\"P-value: {p_value}\")\n",
    "\n"
   ]
  },
  {
   "cell_type": "code",
   "execution_count": null,
   "id": "8b3a9707-521d-4fb7-bc8b-a9ac3ee4f07d",
   "metadata": {},
   "outputs": [],
   "source": [
    "'''Q17. A marketing company wants to estimate the average number of ads watched by viewers during a TV\n",
    "program. They take a random sample of 50 viewers and find that the sample mean is 4 with a standard\n",
    "deviation of 1.5. Estimate the population mean with a 99% confidence interval.'''\n",
    "\n",
    "'''\n",
    "Population Mean Estimate= sample mean +- (sample std / squareroot of sample size)*critical value\n",
    "\n",
    "where sample mean = 4 \n",
    "sample std = 1.5 \n",
    "sample size = 50 \n",
    "\n",
    "degree of freedom = n-1 = 49 \n",
    "signficance value = 1-confidence interval = 0.01\n",
    "\n",
    "now calculating critical value by t table = 2.68\n",
    "\n",
    "then put all these values in formula given above ,we get\n",
    "\n",
    "\n",
    "Population Mean= (485.79, 514.21) '''"
   ]
  },
  {
   "cell_type": "code",
   "execution_count": null,
   "id": "2c9281cc-3323-4cdd-8772-488db9b3ed6e",
   "metadata": {},
   "outputs": [],
   "source": []
  },
  {
   "cell_type": "code",
   "execution_count": null,
   "id": "2c0bf801-571f-47cd-8b6c-002894ad8ec4",
   "metadata": {},
   "outputs": [],
   "source": []
  }
 ],
 "metadata": {
  "kernelspec": {
   "display_name": "Python 3 (ipykernel)",
   "language": "python",
   "name": "python3"
  },
  "language_info": {
   "codemirror_mode": {
    "name": "ipython",
    "version": 3
   },
   "file_extension": ".py",
   "mimetype": "text/x-python",
   "name": "python",
   "nbconvert_exporter": "python",
   "pygments_lexer": "ipython3",
   "version": "3.10.8"
  }
 },
 "nbformat": 4,
 "nbformat_minor": 5
}
