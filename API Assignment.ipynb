{
 "cells": [
  {
   "cell_type": "code",
   "execution_count": null,
   "id": "b9206bf9-af77-4f5f-8d42-cdd167b5f9e4",
   "metadata": {},
   "outputs": [],
   "source": [
    "'''Q1. What is an API? Give an example, where an API is used in real life.'''\n",
    "\n",
    "'''API stands for Application Programming Interface which is a set of rules and protocols which different applications to\n",
    "cummunicate and interact with each other .\n",
    "\n",
    "for example paytm uses bank details for which communicates with bank which is made possible because of API.'''\n",
    "\n"
   ]
  },
  {
   "cell_type": "code",
   "execution_count": null,
   "id": "87eb2e13-df6e-4604-b101-95533c5f3c68",
   "metadata": {},
   "outputs": [],
   "source": [
    "'''Q2. Give advantages and disadvantages of using API.'''\n",
    "\n",
    "ADVANTAGES-\n",
    "\n",
    "1.it helps us to communicate with different apllications.\n",
    "2.the protocols are easy to write and implement .\n",
    "\n",
    "DISADVANTAGES-\n",
    "\n",
    "1.there is a security risk in APIs ,there can be a data leakage as well.\n",
    "2.there are very few APIs which are free , others we have to purchase which is a shortcoming of API."
   ]
  },
  {
   "cell_type": "code",
   "execution_count": null,
   "id": "9fda33b5-17e6-43ee-aa56-548247e47dd0",
   "metadata": {},
   "outputs": [],
   "source": [
    "'''Q3. What is a Web API? Differentiate between API and Web API.'''\n",
    "\n",
    "'''Web API is a api which help us to cummunicate or interact with web based applications . \n",
    "it uses HTTP to make it easy to communicate.\n",
    "\n",
    "API is not limited to HTTP only , it uses various things to make cummunication between applications.\n",
    "whereas Web API is used to cummunicate with web based applications only . Web API is a part of API.'''\n",
    "\n",
    "\n"
   ]
  },
  {
   "cell_type": "code",
   "execution_count": null,
   "id": "a0b42502-e2df-4d47-98af-818daf5fdc7b",
   "metadata": {},
   "outputs": [],
   "source": [
    "'''Q4. Explain REST and SOAP Architecture. Mention shortcomings of SOAP.'''\n",
    "\n",
    "'''REST Architecture- \n",
    "\n",
    "1. it is used for web based communication.\n",
    "2.it uses only HTTP .\n",
    "3. it is very easy to use ,good scalability , flexibility .\n",
    "4.it is stateless, i.e.., it doesn't save any type of data .\n",
    "\n",
    "SOAP Architecture-\n",
    "\n",
    "1.it is lightweight than REST .\n",
    "2. data security is good .\n",
    "3. a little bit complex than REST.\n",
    "4. It uses XML for communication.\n",
    "\n",
    "shortcomings of SOAP-\n",
    "\n",
    "1. it is more complex than REST .'''\n"
   ]
  },
  {
   "cell_type": "code",
   "execution_count": null,
   "id": "da99c455-fb02-43c1-9c63-443dd4d13c49",
   "metadata": {},
   "outputs": [],
   "source": [
    "'''Q5. Differentiate between REST and SOAP.'''\n",
    "\n",
    "                 REST                             |                        SOAP\n",
    "    \n",
    "    \n",
    "1.it is easy to use and implement                  1. it is more complex\n",
    "\n",
    "2. data security is not good                       2. data security is very good\n",
    "\n",
    "3. it uses HTTP for cummunication                  3. it uses XML for cummunication\n",
    "\n",
    "4. it is not lightweoght                           4. it is very lightweight\n"
   ]
  }
 ],
 "metadata": {
  "kernelspec": {
   "display_name": "Python 3 (ipykernel)",
   "language": "python",
   "name": "python3"
  },
  "language_info": {
   "codemirror_mode": {
    "name": "ipython",
    "version": 3
   },
   "file_extension": ".py",
   "mimetype": "text/x-python",
   "name": "python",
   "nbconvert_exporter": "python",
   "pygments_lexer": "ipython3",
   "version": "3.10.8"
  }
 },
 "nbformat": 4,
 "nbformat_minor": 5
}
