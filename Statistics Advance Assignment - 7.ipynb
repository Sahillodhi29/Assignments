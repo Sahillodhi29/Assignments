{
 "cells": [
  {
   "cell_type": "code",
   "execution_count": 3,
   "id": "ad619731-c342-4661-8c7d-b11fc6aedc78",
   "metadata": {},
   "outputs": [
    {
     "name": "stdout",
     "output_type": "stream",
     "text": [
      "F value- 0.9677419354838709\n",
      "P value- 0.5139133165385394\n"
     ]
    }
   ],
   "source": [
    "'''Q1. Write a Python function that takes in two arrays of data and calculates the F-value for a variance ratio\n",
    "test. The function should return the F-value and the corresponding p-value for the test.'''\n",
    "\n",
    "import numpy as np\n",
    "import scipy.stats as stat\n",
    "\n",
    "def calculate_f_value(data1,data2):\n",
    "    \n",
    "    data1=np.array(data1)\n",
    "    data2=np.array(data2)\n",
    "    \n",
    "    var1 = np.var(data1, ddof=1)\n",
    "    var2 = np.var(data2, ddof=1)\n",
    "    \n",
    "    f_value = var1 / var2\n",
    "    \n",
    "    df1 = len(data1) - 1\n",
    "    df2 = len(data2) - 1\n",
    "    \n",
    "    p_value= 1-stat.f.cdf(f_value,df1,df2)\n",
    "    \n",
    "    return f_value, p_value\n",
    "\n",
    "\n",
    "arr1=[2,3,5,4,9,1]\n",
    "arr2=[4,9,6,2,1,4]\n",
    "\n",
    "f_value, p_value = calculate_f_value(arr1, arr2)\n",
    "\n",
    "print(\"F value-\",f_value)\n",
    "print(\"P value-\",p_value)"
   ]
  },
  {
   "cell_type": "code",
   "execution_count": 9,
   "id": "36929ae4-c2ed-4517-bc81-0d2b5f6376ed",
   "metadata": {},
   "outputs": [
    {
     "name": "stdout",
     "output_type": "stream",
     "text": [
      "Lower Critical F-Value: 0.25561885602307166\n",
      "Upper Critical F-Value: 3.5878986691065444\n"
     ]
    }
   ],
   "source": [
    "'''Q2. Given a significance level of 0.05 and the degrees of freedom for the numerator and denominator of an\n",
    "F-distribution, write a Python function that returns the critical F-value for a two-tailed test.'''\n",
    "import numpy\n",
    "import scipy.stats as stat\n",
    "def cal_critical_F_value(alpha, df1, df2):\n",
    "    \n",
    "    upper_quantile = stat.f.ppf(1 - alpha / 2, df1, df2)\n",
    "    lower_quantile = stat.f.ppf(alpha / 2, df1, df2)\n",
    "    \n",
    "    \n",
    "    return lower_quantile, upper_quantile\n",
    "\n",
    "alpha= 0.05\n",
    "df1= 9\n",
    "df2= 11\n",
    "\n",
    "lower_critical_f, upper_critical_f = cal_critical_F_value(alpha, df1, df2)\n",
    "\n",
    "print(f\"Lower Critical F-Value: {lower_critical_f}\")\n",
    "print(f\"Upper Critical F-Value: {upper_critical_f}\")"
   ]
  },
  {
   "cell_type": "code",
   "execution_count": 4,
   "id": "d3451688-e00f-4e12-adbd-388cfa13c554",
   "metadata": {},
   "outputs": [
    {
     "name": "stdout",
     "output_type": "stream",
     "text": [
      "F value- 0.48698667324015826\n",
      "P value- 0.9930748629443151\n",
      "df1- 49\n",
      "df2- 47\n"
     ]
    }
   ],
   "source": [
    "'''Q3. Write a Python program that generates random samples from two normal distributions with known\n",
    "\n",
    "variances and uses an F-test to determine if the variances are equal. The program should output the F-\n",
    "value, degrees of freedom, and p-value for the test.'''\n",
    "\n",
    "import numpy as np\n",
    "import scipy.stats as stat\n",
    "\n",
    "def calculate_f_value(data1,data2):\n",
    "    \n",
    "    data1=np.array(data1)\n",
    "    data2=np.array(data2)\n",
    "    \n",
    "    var1 = np.var(data1, ddof=1)\n",
    "    var2 = np.var(data2, ddof=1)\n",
    "    \n",
    "    f_value = var1 / var2\n",
    "    \n",
    "    df1 = len(data1) - 1\n",
    "    df2 = len(data2) - 1\n",
    "    \n",
    "    p_value= 1-stat.f.cdf(f_value,df1,df2)\n",
    "    \n",
    "    return f_value, p_value,df1,df2\n",
    "\n",
    "\n",
    "np.random.seed(42)\n",
    "\n",
    "data1 = np.random.normal(loc=0, scale=1, size=50)\n",
    "data2 = np.random.normal(loc=0, scale=1.5, size=48)\n",
    "\n",
    "f_value, p_value,df1,df2 = calculate_f_value(data1,data2)\n",
    "\n",
    "print(\"F value-\",f_value)\n",
    "print(\"P value-\",p_value)\n",
    "print(\"df1-\",df1)\n",
    "print(\"df2-\",df2)"
   ]
  },
  {
   "cell_type": "code",
   "execution_count": null,
   "id": "50ece71f-bd09-44b1-b80c-6d8a0d7fbc10",
   "metadata": {},
   "outputs": [],
   "source": [
    "'''Q4.The variances of two populations are known to be 10 and 15. A sample of 12 observations is taken from\n",
    "each population. Conduct an F-test at the 5% significance level to determine if the variances are\n",
    "significantly different.'''\n",
    "'''\n",
    "given =\n",
    "\n",
    "var1=10\n",
    "var2=15\n",
    "df1=12-1=11\n",
    "df2=12-1=11\n",
    "alpha=0.05\n",
    "\n",
    "null hypothesis - the variances are equal.\n",
    "alternate hypothesis - the variances are significantly different.\n",
    "\n",
    "now let's find out the value of F\n",
    "\n",
    "F=var1/var2=0.67\n",
    "\n",
    "and let's find out the critical value with the help of alpha ,df1 ,df2\n",
    "\n",
    "critical value = 2.8179\n",
    "\n",
    "as we can see that F< critical value , hence we fail to reject the null hypothesis \n",
    "\n",
    "hence we can conclude that at the 5% significance level there is not enough evidence that  the variances are\n",
    "significantly different.\n",
    "\n",
    "'''"
   ]
  },
  {
   "cell_type": "code",
   "execution_count": null,
   "id": "c0e10409-26c2-4cd0-b859-11f6eae59f6a",
   "metadata": {},
   "outputs": [],
   "source": [
    "'''Q5. A manufacturer claims that the variance of the diameter of a certain product is 0.005. A sample of 25\n",
    "products is taken, and the sample variance is found to be 0.006. Conduct an F-test at the 1% significance\n",
    "level to determine if the claim is justified.'''\n",
    "\n",
    "null hypothesis - the claim is not justified.(clamied variance  != observed variance) \n",
    "alternate hypothesis - the claim is justified.( clamied variance = observed variance)\n",
    "\n",
    "claimed variance = var1 = 0.005\n",
    "observed variance = var2 = 0.0006\n",
    "\n",
    "F = var1/var2 = 0.83\n",
    "\n",
    "\n"
   ]
  },
  {
   "cell_type": "code",
   "execution_count": 8,
   "id": "64d6d211-5993-418d-834a-73790117bcf7",
   "metadata": {},
   "outputs": [
    {
     "data": {
      "text/plain": [
       "('mean=', 1.2222222222222223, ', variance= ', 1.1950617283950618)"
      ]
     },
     "execution_count": 8,
     "metadata": {},
     "output_type": "execute_result"
    }
   ],
   "source": [
    "'''Q6. Write a Python function that takes in the degrees of freedom for the numerator and denominator of an\n",
    "F-distribution and calculates the mean and variance of the distribution. The function should return the\n",
    "mean and variance as a tuple.'''\n",
    "\n",
    "def mean_var(df_numerator,df_denominator):\n",
    "    mean = df_denominator / (df_denominator - 2)\n",
    "    variance = (2 * df_denominator**2 * (df_numerator + df_denominator - 2)) / (df_numerator * (df_denominator - 2)**2 * (df_denominator - 4))\n",
    "    \n",
    "    return (\"mean=\",mean,\", variance= \" ,variance)\n",
    "    \n",
    "df_numerator=5\n",
    "df_denominator=11\n",
    "\n",
    "mean_var(df_numerator,df_denominator)"
   ]
  },
  {
   "cell_type": "code",
   "execution_count": null,
   "id": "e9508e9a-5840-438d-bcf8-0da706c75092",
   "metadata": {},
   "outputs": [],
   "source": [
    "'''Q7. A random sample of 10 measurements is taken from a normal population with unknown variance. The\n",
    "sample variance is found to be 25. Another random sample of 15 measurements is taken from another\n",
    "normal population with unknown variance, and the sample variance is found to be 20. Conduct an F-test\n",
    "at the 10% significance level to determine if the variances are significantly different.'''\n",
    "'''\n",
    "given =\n",
    "\n",
    "var1=25\n",
    "var2=20\n",
    "df1=10-1=9\n",
    "df2=15-1=14\n",
    "alpha=0.1\n",
    "\n",
    "null hypothesis - the variances are equal.\n",
    "alternate hypothesis - the variances are significantly different.\n",
    "\n",
    "now let's find out the value of F\n",
    "\n",
    "F=var1/var2=0.75\n",
    "and let's find out the critical value with the help of alpha ,df1 ,df2\n",
    "\n",
    "critical value = 2.122\n",
    "\n",
    "as we can see that F< critical value , hence we fail to reject the null hypothesis \n",
    "\n",
    "hence we can conclude that at the 5% significance level there is not enough evidence that  the variances are\n",
    "significantly different.'''"
   ]
  },
  {
   "cell_type": "code",
   "execution_count": 11,
   "id": "440ea648-0875-4f06-8c5c-f6893ce3e619",
   "metadata": {},
   "outputs": [
    {
     "name": "stdout",
     "output_type": "stream",
     "text": [
      "we fail to reject the null hypothesis , hence the varainces are equal\n"
     ]
    }
   ],
   "source": [
    "'''Q8. The following data represent the waiting times in minutes at two different restaurants on a Saturday\n",
    "night: Restaurant A: 24, 25, 28, 23, 22, 20, 27; Restaurant B: 31, 33, 35, 30, 32, 36. Conduct an F-test at the 5%\n",
    "significance level to determine if the variances are significantly different.'''\n",
    "\n",
    "# null hypothesis - the variances are equal.\n",
    "# alternate hypothesis - the variances are significantly different.\n",
    "\n",
    "import numpy as np\n",
    "import scipy.stats as stat\n",
    "\n",
    "def calculate_f_value(data1,data2):\n",
    "    \n",
    "    data1=np.array(data1)\n",
    "    data2=np.array(data2)\n",
    "    \n",
    "    var1 = np.var(data1, ddof=1)\n",
    "    var2 = np.var(data2, ddof=1)\n",
    "    \n",
    "    f_value = var1 / var2\n",
    "    \n",
    "    return f_value\n",
    "\n",
    "data1=[24, 25, 28, 23, 22, 20, 27]\n",
    "data2=[31, 33, 35, 30, 32, 36]\n",
    "alpha=0.05\n",
    "df1 = len(data1) - 1\n",
    "df2 = len(data2) - 1\n",
    "\n",
    "F_value=calculate_f_value(data1,data2)\n",
    "\n",
    "# with the help of alpha , df1 ,df2 we will find critical value \n",
    "\n",
    "critical_value=4.95\n",
    "\n",
    "if F_value > critical_value :\n",
    "    print(\"reject the null hypothesis , hence the variances are significantly different\")\n",
    "    \n",
    "else :\n",
    "    print(\"we fail to reject the null hypothesis , hence the varainces are equal\")"
   ]
  },
  {
   "cell_type": "code",
   "execution_count": 12,
   "id": "0ca03d89-0e0f-4a76-ba04-4883ec403393",
   "metadata": {},
   "outputs": [
    {
     "name": "stdout",
     "output_type": "stream",
     "text": [
      "we fail to reject the null hypothesis , hence the varainces are equal\n"
     ]
    }
   ],
   "source": [
    "'''Q9. The following data represent the test scores of two groups of students: Group A: 80, 85, 90, 92, 87, 83;\n",
    "Group B: 75, 78, 82, 79, 81, 84. Conduct an F-test at the 1% significance level to determine if the variances\n",
    "are significantly different.'''\n",
    "\n",
    "# null hypothesis - the variances are equal.\n",
    "# alternate hypothesis - the variances are significantly different.\n",
    "\n",
    "import numpy as np\n",
    "import scipy.stats as stat\n",
    "\n",
    "def calculate_f_value(data1,data2):\n",
    "    \n",
    "    data1=np.array(data1)\n",
    "    data2=np.array(data2)\n",
    "    \n",
    "    var1 = np.var(data1, ddof=1)\n",
    "    var2 = np.var(data2, ddof=1)\n",
    "    \n",
    "    f_value = var1 / var2\n",
    "    \n",
    "    return f_value\n",
    "\n",
    "data1=[80, 85, 90, 92, 87, 83]\n",
    "data2=[75, 78, 82, 79, 81, 84]\n",
    "alpha=0.1\n",
    "df1 = len(data1) - 1\n",
    "df2 = len(data2) - 1\n",
    "\n",
    "F_value=calculate_f_value(data1,data2)\n",
    "\n",
    "# with the help of alpha , df1 ,df2 we will find critical value \n",
    "\n",
    "critical_value=3.45\n",
    "\n",
    "if F_value > critical_value :\n",
    "    print(\"reject the null hypothesis , hence the variances are significantly different\")\n",
    "    \n",
    "else :\n",
    "    print(\"we fail to reject the null hypothesis , hence the varainces are equal\")"
   ]
  },
  {
   "cell_type": "code",
   "execution_count": null,
   "id": "7ed92cac-107d-45db-829c-3b0a873491d5",
   "metadata": {},
   "outputs": [],
   "source": []
  }
 ],
 "metadata": {
  "kernelspec": {
   "display_name": "Python 3 (ipykernel)",
   "language": "python",
   "name": "python3"
  },
  "language_info": {
   "codemirror_mode": {
    "name": "ipython",
    "version": 3
   },
   "file_extension": ".py",
   "mimetype": "text/x-python",
   "name": "python",
   "nbconvert_exporter": "python",
   "pygments_lexer": "ipython3",
   "version": "3.10.8"
  }
 },
 "nbformat": 4,
 "nbformat_minor": 5
}
