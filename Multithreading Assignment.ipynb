{
 "cells": [
  {
   "cell_type": "code",
   "execution_count": 1,
   "id": "39b1945f-1c28-4679-ba1d-68e8100e7a91",
   "metadata": {},
   "outputs": [
    {
     "data": {
      "text/plain": [
       "'it is a process in which multiple threads can be formed from a single process\\n\\nit is used to enhace the performance of the code .\\n\\nthreading module is used to handle threads in python. '"
      ]
     },
     "execution_count": 1,
     "metadata": {},
     "output_type": "execute_result"
    }
   ],
   "source": [
    "'''Q1. What is multithreading in python? Why is it used? Name the module used to handle threads in python'''\n",
    "\n",
    "'''it is a process in which multiple threads can be formed from a single process\n",
    "\n",
    "it is used to enhace the performance of the code .\n",
    "\n",
    "threading module is used to handle threads in python. '''"
   ]
  },
  {
   "cell_type": "code",
   "execution_count": null,
   "id": "3c2f6ee5-fc1f-4f82-83cc-4ddfe3b5e25e",
   "metadata": {},
   "outputs": [],
   "source": [
    "'''Q2. Why threading module used? Write the use of the following functions\n",
    "\n",
    "\n",
    "\n",
    " activeCount() - this function tells us about the number of active threads \n",
    " currentThread() - this function tells us about the cureently running thread by telling it's name \n",
    " enumerate()-- this function return the list of all the active threads in the programm'''\n",
    "\n",
    "\n",
    "\n"
   ]
  },
  {
   "cell_type": "code",
   "execution_count": null,
   "id": "4802d3f2-49a6-4fea-a6e8-c0c7fa9b8942",
   "metadata": {},
   "outputs": [],
   "source": [
    "'''Q3. Explain the following functions:\n",
    "\n",
    "\n",
    " run()- it's not used ,instead of this use start().\n",
    " start()- it starts the execution of thread.\n",
    " join()- it waits for the thread to get complete so that all threads get executed nicely and don't get crashed\n",
    " isAlive()- it checks whether the thread is still running or not , it returns a boolean value for the conditions\n",
    " \n",
    " '''"
   ]
  },
  {
   "cell_type": "code",
   "execution_count": 16,
   "id": "bfd48d84-b0de-4216-bc75-2bf7fba8af8a",
   "metadata": {},
   "outputs": [
    {
     "name": "stdout",
     "output_type": "stream",
     "text": [
      "[1, 4, 9, 16, 25]\n",
      "[1, 8, 27, 64, 125]\n"
     ]
    }
   ],
   "source": [
    "'''Q4. Write a python program to create two threads. Thread one must print the list of squares and thread\n",
    "two must print the list of cubes'''\n",
    "\n",
    "import threading\n",
    "\n",
    "def fun(x):\n",
    "    \n",
    "    l=[1,2,3,4,5]\n",
    "    l1=[]\n",
    "    \n",
    "    for i in l:\n",
    "        i=i**x\n",
    "        l1.append(i)\n",
    "       \n",
    "    print(l1)\n",
    "    \n",
    "thread_sq= threading.Thread(target= fun, args=(2,))\n",
    "\n",
    "thread_cube= threading.Thread(target= fun, args=(3,))\n",
    "\n",
    "thread_sq.start()\n",
    "thread_cube.start()"
   ]
  },
  {
   "cell_type": "code",
   "execution_count": null,
   "id": "126a41c7-02a8-4f0c-932a-f4604312343f",
   "metadata": {},
   "outputs": [],
   "source": [
    "'''Q5. State advantages and disadvantages of multithreading'''\n",
    "\n",
    "'''Advantages:\n",
    "1. we can run multiple threads simultaneously at the same time.\n",
    "2. performance of code improve\n",
    "\n",
    "Disadvantages:\n",
    "1. it has a lot of complexity.\n",
    "2. it inceases the memory usage.''''"
   ]
  },
  {
   "cell_type": "code",
   "execution_count": null,
   "id": "1b1ebd2c-8b6d-4f10-88e7-a8267cbc9025",
   "metadata": {},
   "outputs": [],
   "source": [
    "'''Q6. Explain deadlocks and race conditions.'''\n",
    "\n",
    "deadlocks - it is the condition which occurs when two or more threads are waiting for each other to give output and \n",
    "            hence get stucked . they are hard to detect and to resolve.\n",
    "    \n",
    "race conditions - it is the condition when mutilple threads a"
   ]
  }
 ],
 "metadata": {
  "kernelspec": {
   "display_name": "Python 3 (ipykernel)",
   "language": "python",
   "name": "python3"
  },
  "language_info": {
   "codemirror_mode": {
    "name": "ipython",
    "version": 3
   },
   "file_extension": ".py",
   "mimetype": "text/x-python",
   "name": "python",
   "nbconvert_exporter": "python",
   "pygments_lexer": "ipython3",
   "version": "3.10.8"
  }
 },
 "nbformat": 4,
 "nbformat_minor": 5
}
