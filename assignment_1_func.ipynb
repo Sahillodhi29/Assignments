{
 "cells": [
  {
   "cell_type": "code",
   "execution_count": 1,
   "id": "160d0235-51ea-48d7-84ae-7a6ebad6166a",
   "metadata": {},
   "outputs": [
    {
     "data": {
      "text/plain": [
       "'Q1. Which keyword is used to create a function? Create a function to return a list of odd numbers in the\\nrange of 1 to 25.'"
      ]
     },
     "execution_count": 1,
     "metadata": {},
     "output_type": "execute_result"
    }
   ],
   "source": [
    "'''Q1. Which keyword is used to create a function? Create a function to return a list of odd numbers in the\n",
    "range of 1 to 25.'''"
   ]
  },
  {
   "cell_type": "code",
   "execution_count": 3,
   "id": "8dff89a3-eabf-4c5e-92e6-87ec7495b05d",
   "metadata": {},
   "outputs": [
    {
     "data": {
      "text/plain": [
       "[1, 3, 5, 7, 9, 11, 13, 15, 17, 19, 21, 23, 25]"
      ]
     },
     "execution_count": 3,
     "metadata": {},
     "output_type": "execute_result"
    }
   ],
   "source": [
    "# def keyboard is used to create a function\n",
    "\n",
    "def odd():\n",
    "    '''this functions gives the odd number from a list of odd number from 1 to 25'''\n",
    "    l=[]\n",
    "    for i in range(1,26):\n",
    "        if i%2!=0:\n",
    "            l.append(i)\n",
    "    return l\n",
    "    \n",
    "    \n",
    "odd()"
   ]
  },
  {
   "cell_type": "code",
   "execution_count": 16,
   "id": "cf87fd0d-4113-45fb-87ea-472a3f78d4c4",
   "metadata": {},
   "outputs": [
    {
     "data": {
      "text/plain": [
       "[456, 888]"
      ]
     },
     "execution_count": 16,
     "metadata": {},
     "output_type": "execute_result"
    }
   ],
   "source": [
    "'''Q2. Why *args and **kwargs is used in some functions? Create a function each for *args and **kwargs\n",
    "to demonstrate their use.'''\n",
    "\n",
    "# *args are used to gives as many arguments as you want \n",
    "# whereas **kwargs are used to input dictionary keywords as much as you want \n",
    "\n",
    "def my_list(*args):\n",
    "    l=[]\n",
    "    for arg in args:\n",
    "        \n",
    "        if arg%2==0:\n",
    "            l.append(arg)\n",
    "    return l        \n",
    "my_list(243,456,333,567,888)            "
   ]
  },
  {
   "cell_type": "code",
   "execution_count": 2,
   "id": "20eba10c-dba8-4fcc-871f-22d9deb2ef11",
   "metadata": {},
   "outputs": [],
   "source": [
    "def print_keywords(**kwargs):\n",
    "    for key, value in kwargs.items():\n",
    "        print(key, \":\", value)\n",
    "      "
   ]
  },
  {
   "cell_type": "code",
   "execution_count": 3,
   "id": "60375799-e7dc-4546-b7fd-44d019a2a971",
   "metadata": {},
   "outputs": [
    {
     "name": "stdout",
     "output_type": "stream",
     "text": [
      "name : John\n",
      "age : 25\n",
      "city : New York\n"
     ]
    }
   ],
   "source": [
    "print_keywords(name=\"John\", age=25, city=\"New York\")\n"
   ]
  },
  {
   "cell_type": "code",
   "execution_count": 13,
   "id": "806863c0-5be4-4df8-9b41-8a06b7ed08dd",
   "metadata": {},
   "outputs": [
    {
     "name": "stdout",
     "output_type": "stream",
     "text": [
      "2\n",
      "4\n",
      "6\n",
      "8\n",
      "10\n"
     ]
    }
   ],
   "source": [
    "'''Q3. What is an iterator in python? Name the method used to initialise the iterator object and the method\n",
    "used for iteration. Use these methods to print the first five elements of the given list [2, 4, 6, 8, 10, 12, 14,\n",
    "16, 18, 20].'''\n",
    "\n",
    "# iterator is a function which gives us output one by one from an iterable data type\n",
    "\n",
    "lis=[2, 4, 6, 8, 10, 12, 14,\n",
    "16, 18, 20]\n",
    "\n",
    "lu= iter(lis)\n",
    "\n",
    "\n",
    "\n",
    "for i  in range(5):\n",
    "    print(next(lu))\n",
    "\n",
    "\n"
   ]
  },
  {
   "cell_type": "code",
   "execution_count": 25,
   "id": "cacaf18f-2a91-48f2-8bf0-cc3657cdcd5f",
   "metadata": {},
   "outputs": [],
   "source": [
    "'''Q4. What is a generator function in python? Why yield keyword is used? Give an example of a generator\n",
    "function.'''\n",
    "\n",
    "# generator function doesnt stores the data in memory ,it gives us the data at the time we ask for it and \n",
    "# it produces a sequence of output for the given valid input\n",
    "\n",
    "def test_fib(n):\n",
    "    a=0\n",
    "    b=1\n",
    "    for i in range(n):\n",
    "        yield a\n",
    "    \n",
    "        a,b=b,a+b\n"
   ]
  },
  {
   "cell_type": "code",
   "execution_count": 20,
   "id": "aae50848-b537-45d8-aef3-bd1536e6c3d1",
   "metadata": {},
   "outputs": [
    {
     "data": {
      "text/plain": [
       "<generator object test_fib at 0x7faa9864d930>"
      ]
     },
     "execution_count": 20,
     "metadata": {},
     "output_type": "execute_result"
    }
   ],
   "source": [
    "test_fib()"
   ]
  },
  {
   "cell_type": "code",
   "execution_count": 26,
   "id": "b05e5346-60fe-4c14-9dd1-90e6f9cff35f",
   "metadata": {},
   "outputs": [
    {
     "name": "stdout",
     "output_type": "stream",
     "text": [
      "0\n",
      "1\n",
      "1\n",
      "2\n",
      "3\n",
      "5\n",
      "8\n",
      "13\n",
      "21\n",
      "34\n"
     ]
    }
   ],
   "source": [
    "for i in test_fib(10):\n",
    "    print(i)"
   ]
  },
  {
   "cell_type": "code",
   "execution_count": 61,
   "id": "2aec1b1e-ebcd-4088-885b-995ea0db7d4d",
   "metadata": {},
   "outputs": [
    {
     "name": "stdout",
     "output_type": "stream",
     "text": [
      "2\n",
      "3\n",
      "5\n",
      "7\n",
      "11\n",
      "13\n",
      "17\n",
      "19\n",
      "23\n",
      "29\n",
      "31\n",
      "37\n",
      "41\n",
      "43\n",
      "47\n",
      "53\n",
      "59\n",
      "61\n",
      "67\n",
      "71\n"
     ]
    }
   ],
   "source": [
    " '''Q5. Create a generator function for prime numbers less than 1000. Use the next() method to print the\n",
    "first 20 prime numbers.'''\n",
    "\n",
    "def prime_generator():\n",
    "\n",
    "    yield 2\n",
    "    \n",
    "    primes=[2]\n",
    "    \n",
    "    current_number=3\n",
    "    \n",
    "    while current_number<1000:\n",
    "        is_prime=True\n",
    "        \n",
    "        for prime in primes:\n",
    "            if current_number%prime==0:\n",
    "                is_prime=False\n",
    "                break\n",
    "                \n",
    "        if is_prime:\n",
    "            yield current_number\n",
    "            primes.append(current_number)\n",
    "            \n",
    "        current_number=current_number+2    \n",
    "        \n",
    "        \n",
    "prime_gen=prime_generator()\n",
    "\n",
    "for i in range(20):\n",
    "    prime=next(prime_gen)\n",
    "    print(prime)\n",
    "       "
   ]
  },
  {
   "cell_type": "code",
   "execution_count": 77,
   "id": "a0a541b0-d31f-4738-b1aa-894178a68840",
   "metadata": {},
   "outputs": [
    {
     "name": "stdout",
     "output_type": "stream",
     "text": [
      "0 1 1 2 3 5 8 13 21 34 "
     ]
    }
   ],
   "source": [
    "# Q6. Write a python program to print the first 10 Fibonacci numbers using a while loop.\n",
    "\n",
    "def fib():\n",
    "    num1=0\n",
    "    num2=1\n",
    "    count=0\n",
    "    while count<10:\n",
    "        \n",
    "        \n",
    "        \n",
    "        print(num1, end=\" \")\n",
    "        next_num = num1 + num2\n",
    "        num1 = num2\n",
    "        num2 = next_num\n",
    "        count= count+1\n",
    "        \n",
    "fib()        "
   ]
  },
  {
   "cell_type": "code",
   "execution_count": 95,
   "id": "4a640b76-48a2-4e55-8ac5-dc8cbdac3a6c",
   "metadata": {},
   "outputs": [
    {
     "name": "stdout",
     "output_type": "stream",
     "text": [
      "['p']\n",
      "['w']\n",
      "['s']\n",
      "['k']\n",
      "['i']\n",
      "['l']\n",
      "['l']\n",
      "['s']\n"
     ]
    }
   ],
   "source": [
    "'''Q7. Write a List Comprehension to iterate through the given string: ‘pwskills’.\n",
    "Expected output: ['p', 'w', 's', 'k', 'i', 'l', 'l', 's']'''\n",
    "\n",
    "s='pwskills'\n",
    "s1=iter(s)\n",
    "l=[]\n",
    "for i in range(8):\n",
    "    a=next(s1)\n",
    "    b=list(a)\n",
    "    print(b)\n",
    "\n",
    "    "
   ]
  },
  {
   "cell_type": "code",
   "execution_count": 101,
   "id": "c7e2a3bf-d4f4-4bf5-9c9c-701f2d54ce3f",
   "metadata": {},
   "outputs": [
    {
     "name": "stdout",
     "output_type": "stream",
     "text": [
      "545 is palindrome\n",
      "3546 is not palindrome\n"
     ]
    }
   ],
   "source": [
    "# Q8. Write a python program to check whether a given number is Palindrome or not using a while loop.\n",
    "\n",
    "def is_palindrome(x):\n",
    "    if(x[::]==x[::-1]):\n",
    "        print(x,\"is palindrome\")\n",
    "    else:\n",
    "        print(x,\"is not palindrome\")\n",
    "        \n",
    "\n",
    "a=545\n",
    "b=str(a)\n",
    "is_palindrome(b)\n",
    "c=str(3546)\n",
    "is_palindrome(c)\n"
   ]
  },
  {
   "cell_type": "code",
   "execution_count": 102,
   "id": "a16f0c69-c675-4e08-be53-304d173a2c2f",
   "metadata": {},
   "outputs": [
    {
     "data": {
      "text/plain": [
       "[1,\n",
       " 3,\n",
       " 5,\n",
       " 7,\n",
       " 9,\n",
       " 11,\n",
       " 13,\n",
       " 15,\n",
       " 17,\n",
       " 19,\n",
       " 21,\n",
       " 23,\n",
       " 25,\n",
       " 27,\n",
       " 29,\n",
       " 31,\n",
       " 33,\n",
       " 35,\n",
       " 37,\n",
       " 39,\n",
       " 41,\n",
       " 43,\n",
       " 45,\n",
       " 47,\n",
       " 49,\n",
       " 51,\n",
       " 53,\n",
       " 55,\n",
       " 57,\n",
       " 59,\n",
       " 61,\n",
       " 63,\n",
       " 65,\n",
       " 67,\n",
       " 69,\n",
       " 71,\n",
       " 73,\n",
       " 75,\n",
       " 77,\n",
       " 79,\n",
       " 81,\n",
       " 83,\n",
       " 85,\n",
       " 87,\n",
       " 89,\n",
       " 91,\n",
       " 93,\n",
       " 95,\n",
       " 97,\n",
       " 99]"
      ]
     },
     "execution_count": 102,
     "metadata": {},
     "output_type": "execute_result"
    }
   ],
   "source": [
    "# Q9. Write a code to print odd numbers from 1 to 100 using list comprehension.\n",
    "\n",
    "l=range(1,100)\n",
    "\n",
    "list(filter(lambda x:x%2!=0,l))"
   ]
  },
  {
   "cell_type": "code",
   "execution_count": null,
   "id": "d36338fe-c4a6-4048-b385-834091d8b647",
   "metadata": {},
   "outputs": [],
   "source": []
  }
 ],
 "metadata": {
  "kernelspec": {
   "display_name": "Python 3 (ipykernel)",
   "language": "python",
   "name": "python3"
  },
  "language_info": {
   "codemirror_mode": {
    "name": "ipython",
    "version": 3
   },
   "file_extension": ".py",
   "mimetype": "text/x-python",
   "name": "python",
   "nbconvert_exporter": "python",
   "pygments_lexer": "ipython3",
   "version": "3.10.8"
  }
 },
 "nbformat": 4,
 "nbformat_minor": 5
}
