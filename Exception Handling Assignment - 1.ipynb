{
 "cells": [
  {
   "cell_type": "code",
   "execution_count": 1,
   "id": "9c522ca7-2fb6-4e9d-8f53-c7925afd4c8a",
   "metadata": {},
   "outputs": [
    {
     "data": {
      "text/plain": [
       "\"the difference between syntax errors and the exceptions is that when the code throws error ,\\nany any line of a code , then no further code is executed and hence it create a chaos as ,\\nbecause of some syntax eror the whole code doesnt get executed\\n\\nwhereas in the case of exceptions ,the error get pointed out and we can fix it after that too \\nand the code left to be executed continue to excute \\nand hence it's a very beneficial tool for us\""
      ]
     },
     "execution_count": 1,
     "metadata": {},
     "output_type": "execute_result"
    }
   ],
   "source": [
    "# Q1. what is an exception in python ? what is the difference between syntax eroors and exceptions?\n",
    "\n",
    "'''Exception are used to handle different types of errors ,so that because of some syntax error \n",
    "the whole code would not collapse '''\n",
    "\n",
    "'''the difference between syntax errors and the exceptions is that when the code throws error ,\n",
    "any any line of a code , then no further code is executed and hence it create a chaos as ,\n",
    "because of some syntax eror the whole code doesnt get executed\n",
    "\n",
    "whereas in the case of exceptions ,the error get pointed out and we can fix it after that too \n",
    "and the code left to be executed continue to excute \n",
    "and hence it's a very beneficial tool for us'''"
   ]
  },
  {
   "cell_type": "code",
   "execution_count": 3,
   "id": "f7cbbf5e-e093-4c82-87f6-9ecce62fddf5",
   "metadata": {},
   "outputs": [
    {
     "ename": "ZeroDivisionError",
     "evalue": "division by zero",
     "output_type": "error",
     "traceback": [
      "\u001b[0;31m---------------------------------------------------------------------------\u001b[0m",
      "\u001b[0;31mZeroDivisionError\u001b[0m                         Traceback (most recent call last)",
      "Cell \u001b[0;32mIn[3], line 3\u001b[0m\n\u001b[1;32m      1\u001b[0m \u001b[38;5;66;03m# Q2. What happens when an exception is not handled? explain with an example \u001b[39;00m\n\u001b[0;32m----> 3\u001b[0m a\u001b[38;5;241m=\u001b[39m\u001b[38;5;241;43m3\u001b[39;49m\u001b[38;5;241;43m/\u001b[39;49m\u001b[38;5;241;43m0\u001b[39;49m\n\u001b[1;32m      4\u001b[0m \u001b[38;5;28mprint\u001b[39m(a)\n\u001b[1;32m      6\u001b[0m \u001b[38;5;28mprint\u001b[39m(\u001b[38;5;124m\"\u001b[39m\u001b[38;5;124mhello my name is sahil lodhi!!\u001b[39m\u001b[38;5;124m\"\u001b[39m)\n",
      "\u001b[0;31mZeroDivisionError\u001b[0m: division by zero"
     ]
    }
   ],
   "source": [
    "# Q2. What happens when an exception is not handled? explain with an example \n",
    "\n",
    "a=3/0\n",
    "print(a)\n",
    "\n",
    "print(\"hello my name is sahil lodhi!!\")"
   ]
  },
  {
   "cell_type": "code",
   "execution_count": null,
   "id": "8d630581-fae1-42bc-a65e-26a0ab325f16",
   "metadata": {},
   "outputs": [],
   "source": [
    "'''here we can clearly see that we got a division by zero error ,which is obvious to all of us ,\n",
    "but the next line of code is perfectly correct but since the previous line got an error hence the execution \n",
    "of code stopped and hence even the correct code didn't run as well\n",
    "\n",
    "this is what happens when we don't handle a error'''"
   ]
  },
  {
   "cell_type": "code",
   "execution_count": 6,
   "id": "9b755463-8af2-4cd1-ac2d-98c60ea4654c",
   "metadata": {},
   "outputs": [
    {
     "name": "stdout",
     "output_type": "stream",
     "text": [
      "division by zero\n"
     ]
    }
   ],
   "source": [
    "'''Q3.Which python statements are used to catch and handle exceptions? Explain with an example.'''\n",
    "\n",
    "'''we use try and except statements to handle exceptions there are two more statements like else and finally\n",
    "which are used. Else is used when after testing the code in the try block and there are no exceptions then \n",
    "else block will be excuted . finally is used when we want to show some output irrespective of getting an \n",
    "exception in try block'''\n",
    "\n",
    "try :\n",
    "    data = 78/0\n",
    "    print(data)\n",
    "    \n",
    "except ZeroDivisionError as e :\n",
    "    print(e)"
   ]
  },
  {
   "cell_type": "code",
   "execution_count": 11,
   "id": "9052986f-2c23-4e3c-a565-d511e02a1068",
   "metadata": {},
   "outputs": [
    {
     "name": "stdout",
     "output_type": "stream",
     "text": [
      "try block is completely true\n"
     ]
    }
   ],
   "source": [
    "'''Q4. Exlain with an example '''\n",
    "\n",
    "# try and else\n",
    "\n",
    "try :\n",
    "    with open(\"sehi.txt\", \"w\") as f:\n",
    "        f.write(\"hello everyone , today is 28th of july\")\n",
    "        \n",
    "except Exception as e :\n",
    "    print(e)\n",
    "    \n",
    "else:\n",
    "    \n",
    "    print(\"try block is completely true\")"
   ]
  },
  {
   "cell_type": "code",
   "execution_count": 12,
   "id": "86ea2e8a-9460-4ca4-8f94-9169c9263bae",
   "metadata": {},
   "outputs": [],
   "source": [
    "# finally"
   ]
  },
  {
   "cell_type": "code",
   "execution_count": 17,
   "id": "37e60bb7-d813-4157-a507-70862d661be3",
   "metadata": {},
   "outputs": [
    {
     "name": "stdout",
     "output_type": "stream",
     "text": [
      "true\n",
      "this will get printed in any situation\n"
     ]
    }
   ],
   "source": [
    "try :\n",
    "    a=1\n",
    "    if a>0:\n",
    "        \n",
    "        print(\"true\")\n",
    "    \n",
    "except Exception as e:\n",
    "    print(e)\n",
    "\n",
    "finally:\n",
    "    print(\"this will get printed in any situation\")"
   ]
  },
  {
   "cell_type": "code",
   "execution_count": 14,
   "id": "09548f57-b29d-4f84-a3cc-e66efd327f42",
   "metadata": {},
   "outputs": [
    {
     "name": "stdout",
     "output_type": "stream",
     "text": [
      " you can't divide a number by 69\n"
     ]
    }
   ],
   "source": [
    "'''Q6. write a custom exception class and use that class to handle a exception'''\n",
    "\n",
    "class Division69Error(Exception):\n",
    "    def __init__(self , msg):\n",
    "        self.msg =msg\n",
    "        \n",
    "def error69(x,y) :\n",
    "    \n",
    "    if y==69:\n",
    "        raise Division69Error(\" you can't divide a number by 69\")\n",
    "        \n",
    "   \n",
    "\n",
    "try :\n",
    "    a=2\n",
    "    b=69\n",
    "    n=a/69\n",
    "    error69(a,b)\n",
    "    \n",
    "    print(n)\n",
    "    \n",
    "except Division69Error as e :\n",
    "    print(e)\n",
    "    "
   ]
  },
  {
   "cell_type": "code",
   "execution_count": null,
   "id": "0566836f-f193-4501-95b2-22d5a165782d",
   "metadata": {},
   "outputs": [],
   "source": []
  },
  {
   "cell_type": "code",
   "execution_count": null,
   "id": "9de9dcf1-05d0-4aa8-b049-2dedbc13f6ba",
   "metadata": {},
   "outputs": [],
   "source": []
  }
 ],
 "metadata": {
  "kernelspec": {
   "display_name": "Python 3 (ipykernel)",
   "language": "python",
   "name": "python3"
  },
  "language_info": {
   "codemirror_mode": {
    "name": "ipython",
    "version": 3
   },
   "file_extension": ".py",
   "mimetype": "text/x-python",
   "name": "python",
   "nbconvert_exporter": "python",
   "pygments_lexer": "ipython3",
   "version": "3.10.8"
  }
 },
 "nbformat": 4,
 "nbformat_minor": 5
}
