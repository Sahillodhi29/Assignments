{
 "cells": [
  {
   "cell_type": "code",
   "execution_count": 1,
   "id": "f0d15fb5-deb4-4c83-81bb-5f53df8e2b0d",
   "metadata": {},
   "outputs": [],
   "source": [
    "# Q1. How do you comment code in Python? What are the different types of comments?\n",
    "\n",
    "# here are some types of comments with example"
   ]
  },
  {
   "cell_type": "code",
   "execution_count": 2,
   "id": "b6386793-c852-4b04-b053-f2130484d618",
   "metadata": {},
   "outputs": [
    {
     "data": {
      "text/plain": [
       "'hi i want to tell you that i am having amazing experience learning data science from pw skills\\ni will further learn some more skills from here too\\nnow i want to sleep good night'"
      ]
     },
     "execution_count": 2,
     "metadata": {},
     "output_type": "execute_result"
    }
   ],
   "source": [
    "# 1-\"#\"\n",
    "# eg- \n",
    "# hi my name is sahil\n",
    "\n",
    "# 2- \"##\"\n",
    "# eg-\n",
    "##i live in gwalior ,madhya pradesh\n",
    "\n",
    "#3-\"'''\"\n",
    "# this is used for multi line comments\n",
    "\n",
    "'''hi i want to tell you that i am having amazing experience learning data science from pw skills\n",
    "i will further learn some more skills from here too\n",
    "now i want to sleep good night'''"
   ]
  },
  {
   "cell_type": "code",
   "execution_count": 3,
   "id": "31c31714-48de-4633-a1fe-11617093de2e",
   "metadata": {},
   "outputs": [],
   "source": [
    "# Q2. What are variables in Python? How do you declare and assign values to variables?\n",
    "# answer-variables are basically used for storing data and using it by calling the name of variable\n",
    "# when we assign a value for a variable , that value or data get stored in that variable\n",
    "a=10"
   ]
  },
  {
   "cell_type": "code",
   "execution_count": 4,
   "id": "10f48081-9013-4132-871f-495889bf78d9",
   "metadata": {},
   "outputs": [
    {
     "data": {
      "text/plain": [
       "10"
      ]
     },
     "execution_count": 4,
     "metadata": {},
     "output_type": "execute_result"
    }
   ],
   "source": [
    "a"
   ]
  },
  {
   "cell_type": "code",
   "execution_count": 5,
   "id": "82266267-7f93-45f0-99a9-dbfcdade2d86",
   "metadata": {},
   "outputs": [],
   "source": [
    "# Q3. How do you convert one data type to another in Python?\n",
    "# by typecasting"
   ]
  },
  {
   "cell_type": "code",
   "execution_count": 6,
   "id": "dde3b3d1-f1a3-4420-9369-ae9ac5414db5",
   "metadata": {},
   "outputs": [],
   "source": [
    "a=int(\"45\")"
   ]
  },
  {
   "cell_type": "code",
   "execution_count": 7,
   "id": "e26f33bf-ee9b-46ec-b7c6-49e47aba0cc3",
   "metadata": {},
   "outputs": [
    {
     "data": {
      "text/plain": [
       "45"
      ]
     },
     "execution_count": 7,
     "metadata": {},
     "output_type": "execute_result"
    }
   ],
   "source": [
    "a"
   ]
  },
  {
   "cell_type": "code",
   "execution_count": 8,
   "id": "88d38ac7-ecd4-456e-a757-d238701d7a76",
   "metadata": {},
   "outputs": [
    {
     "data": {
      "text/plain": [
       "int"
      ]
     },
     "execution_count": 8,
     "metadata": {},
     "output_type": "execute_result"
    }
   ],
   "source": [
    "type(a)"
   ]
  },
  {
   "cell_type": "code",
   "execution_count": 9,
   "id": "dffbcec9-eb94-4250-be9b-cff8ca8b8eca",
   "metadata": {},
   "outputs": [],
   "source": [
    "b=float(\"12.34\")"
   ]
  },
  {
   "cell_type": "code",
   "execution_count": 10,
   "id": "1c1f9669-c2af-499e-bc92-237593cae457",
   "metadata": {},
   "outputs": [
    {
     "data": {
      "text/plain": [
       "12.34"
      ]
     },
     "execution_count": 10,
     "metadata": {},
     "output_type": "execute_result"
    }
   ],
   "source": [
    "b"
   ]
  },
  {
   "cell_type": "code",
   "execution_count": 11,
   "id": "d003a376-721e-4301-a8f2-b608e8b4f999",
   "metadata": {},
   "outputs": [
    {
     "data": {
      "text/plain": [
       "float"
      ]
     },
     "execution_count": 11,
     "metadata": {},
     "output_type": "execute_result"
    }
   ],
   "source": [
    "type(b)"
   ]
  },
  {
   "cell_type": "code",
   "execution_count": 12,
   "id": "aa270105-cb95-494d-bd7d-c827c589a4af",
   "metadata": {},
   "outputs": [],
   "source": [
    "# Q4. How do you write and execute a Python script from the command line?\n"
   ]
  },
  {
   "cell_type": "code",
   "execution_count": null,
   "id": "8da497f8-a367-4e1a-a50f-91a40bf76903",
   "metadata": {},
   "outputs": [],
   "source": []
  },
  {
   "cell_type": "code",
   "execution_count": 15,
   "id": "7b2554b1-d119-4106-b0d4-807a8954c3a5",
   "metadata": {},
   "outputs": [
    {
     "name": "stdout",
     "output_type": "stream",
     "text": [
      "the required sublist is : [2, 3]\n"
     ]
    }
   ],
   "source": [
    "# Q5. Given a list my_list = [1, 2, 3, 4, 5], write the code to slice the list and obtain the sub-list [2, 3].\n",
    "my_list = [1, 2, 3, 4, 5]\n",
    "sublist=my_list[1:3]\n",
    "print(\"the required sublist is :\",sublist)"
   ]
  },
  {
   "cell_type": "code",
   "execution_count": 16,
   "id": "f5d88a73-19e9-46b0-963c-82ee4cee93ec",
   "metadata": {},
   "outputs": [],
   "source": [
    "# Q6. What is a complex number in mathematics, and how is it represented in Python?\n",
    "\n",
    "'''complex number is a number which has real part and imaginary part and it is represented as a+jb \n",
    "where j represent iota '''\n",
    "\n",
    "a=4+7j"
   ]
  },
  {
   "cell_type": "code",
   "execution_count": 17,
   "id": "addf391d-5590-4e9f-b380-42300acfacce",
   "metadata": {},
   "outputs": [
    {
     "data": {
      "text/plain": [
       "(4+7j)"
      ]
     },
     "execution_count": 17,
     "metadata": {},
     "output_type": "execute_result"
    }
   ],
   "source": [
    "a"
   ]
  },
  {
   "cell_type": "code",
   "execution_count": 18,
   "id": "ef562253-296c-45f6-9060-69462db74d1c",
   "metadata": {},
   "outputs": [
    {
     "data": {
      "text/plain": [
       "complex"
      ]
     },
     "execution_count": 18,
     "metadata": {},
     "output_type": "execute_result"
    }
   ],
   "source": [
    "type(a)"
   ]
  },
  {
   "cell_type": "code",
   "execution_count": 19,
   "id": "ee4b96a2-fc8e-4346-876b-fb19e8d8f574",
   "metadata": {},
   "outputs": [
    {
     "data": {
      "text/plain": [
       "4.0"
      ]
     },
     "execution_count": 19,
     "metadata": {},
     "output_type": "execute_result"
    }
   ],
   "source": [
    "a.real"
   ]
  },
  {
   "cell_type": "code",
   "execution_count": 21,
   "id": "9bb50d59-0f63-43f6-b862-bac650c66415",
   "metadata": {},
   "outputs": [
    {
     "data": {
      "text/plain": [
       "7.0"
      ]
     },
     "execution_count": 21,
     "metadata": {},
     "output_type": "execute_result"
    }
   ],
   "source": [
    "a.imag"
   ]
  },
  {
   "cell_type": "code",
   "execution_count": 22,
   "id": "c1f0cae9-a149-42ae-9bfe-9273690676b0",
   "metadata": {},
   "outputs": [],
   "source": [
    "# Q7. What is the correct way to declare a variable named age and assign the value 25 to it?\n",
    "age=25"
   ]
  },
  {
   "cell_type": "code",
   "execution_count": 23,
   "id": "24d26698-7fd1-4bf9-86f4-fd3f9ed08fcf",
   "metadata": {},
   "outputs": [
    {
     "data": {
      "text/plain": [
       "25"
      ]
     },
     "execution_count": 23,
     "metadata": {},
     "output_type": "execute_result"
    }
   ],
   "source": [
    "age"
   ]
  },
  {
   "cell_type": "code",
   "execution_count": 24,
   "id": "e68f91ec-fc46-430a-8d6f-078fc1710bc9",
   "metadata": {},
   "outputs": [
    {
     "data": {
      "text/plain": [
       "int"
      ]
     },
     "execution_count": 24,
     "metadata": {},
     "output_type": "execute_result"
    }
   ],
   "source": [
    "type(age)"
   ]
  },
  {
   "cell_type": "code",
   "execution_count": 25,
   "id": "1251c686-92a2-436a-a487-4e27a545fb5a",
   "metadata": {},
   "outputs": [],
   "source": [
    "# Q8. Declare a variable named price and assign the value 9.99 to it. What data type does this variable\n",
    "# belong to?\n",
    "\n",
    "price=9.99"
   ]
  },
  {
   "cell_type": "code",
   "execution_count": 26,
   "id": "094866a5-b249-420d-8bee-e7e73f7973e6",
   "metadata": {},
   "outputs": [
    {
     "data": {
      "text/plain": [
       "float"
      ]
     },
     "execution_count": 26,
     "metadata": {},
     "output_type": "execute_result"
    }
   ],
   "source": [
    "type(price)"
   ]
  },
  {
   "cell_type": "code",
   "execution_count": 28,
   "id": "3dfdd679-2d48-4077-9bd6-13b60955fb23",
   "metadata": {},
   "outputs": [
    {
     "name": "stdout",
     "output_type": "stream",
     "text": [
      "sahil singh lodhi\n"
     ]
    }
   ],
   "source": [
    "# Q9. Create a variable named name and assign your full name to it as a string. How would you print the\n",
    "# value of this variable?\n",
    "\n",
    "name=\"sahil singh lodhi\"\n",
    "print(name)"
   ]
  },
  {
   "cell_type": "code",
   "execution_count": 29,
   "id": "811ab002-d865-4ee1-8c80-167c59dc4be7",
   "metadata": {},
   "outputs": [
    {
     "name": "stdout",
     "output_type": "stream",
     "text": [
      "World\n"
     ]
    }
   ],
   "source": [
    "# Q10. Given the string \"Hello, World!\", extract the substring \"World\".\n",
    "\n",
    "str=\"Hello, World\"\n",
    "print(str[7:])"
   ]
  },
  {
   "cell_type": "code",
   "execution_count": 30,
   "id": "25ee2453-4a59-4db9-b05e-b06f3acfba86",
   "metadata": {},
   "outputs": [],
   "source": [
    "# Q11. Create a variable named \"is_student\" and assign it a boolean value indicating whether you are\n",
    "# currently a student or not.\n",
    "\n",
    "is_student=True\n"
   ]
  },
  {
   "cell_type": "code",
   "execution_count": null,
   "id": "3d531a65-5af6-441d-bea1-2d8e18638562",
   "metadata": {},
   "outputs": [],
   "source": [
    "print(\"the person who is using this programm is:\",is_st)"
   ]
  }
 ],
 "metadata": {
  "kernelspec": {
   "display_name": "Python 3 (ipykernel)",
   "language": "python",
   "name": "python3"
  },
  "language_info": {
   "codemirror_mode": {
    "name": "ipython",
    "version": 3
   },
   "file_extension": ".py",
   "mimetype": "text/x-python",
   "name": "python",
   "nbconvert_exporter": "python",
   "pygments_lexer": "ipython3",
   "version": "3.10.8"
  }
 },
 "nbformat": 4,
 "nbformat_minor": 5
}
