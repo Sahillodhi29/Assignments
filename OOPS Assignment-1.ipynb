{
 "cells": [
  {
   "cell_type": "code",
   "execution_count": 7,
   "id": "0845a8b0-d039-4ede-9a1a-f35e721f3a10",
   "metadata": {},
   "outputs": [],
   "source": [
    "'''Q1. Explain Class and Object with respect to Object-Oriented Programming. Give a suitable example.'''\n",
    "\n",
    "# class is a set of methods which is in structured form,object is used to use class methods or properties\n",
    "\n",
    "# example-\n",
    "\n",
    "class cls1():\n",
    "    def fun(self):\n",
    "        print(\"hello everyone\")\n",
    "        \n",
    "    def fun1(self):\n",
    "        return 9\n",
    "    \n",
    "    \n",
    "obj=cls1() "
   ]
  },
  {
   "cell_type": "code",
   "execution_count": 8,
   "id": "9e5af758-4046-479b-b443-79c53a8d83cd",
   "metadata": {},
   "outputs": [
    {
     "data": {
      "text/plain": [
       "9"
      ]
     },
     "execution_count": 8,
     "metadata": {},
     "output_type": "execute_result"
    }
   ],
   "source": [
    "obj.fun1()"
   ]
  },
  {
   "cell_type": "code",
   "execution_count": 9,
   "id": "7c1764d4-f92a-4af8-abd2-028799bbe296",
   "metadata": {},
   "outputs": [
    {
     "data": {
      "text/plain": [
       "'Q2. Name the four pillars of OOPs.'"
      ]
     },
     "execution_count": 9,
     "metadata": {},
     "output_type": "execute_result"
    }
   ],
   "source": [
    " '''Q2. Name the four pillars of OOPs.'''\n",
    "\n",
    "# Abstraction\n",
    "# Encapsulation\n",
    "# Inheritance\n",
    "# Polymorphism"
   ]
  },
  {
   "cell_type": "code",
   "execution_count": 14,
   "id": "ebef3be6-6f5e-4997-b370-ce250952ff41",
   "metadata": {},
   "outputs": [
    {
     "name": "stdout",
     "output_type": "stream",
     "text": [
      "genre of book: fanatsy\n",
      "authorof book: gege utami\n"
     ]
    }
   ],
   "source": [
    "'''Q3. Explain why the __init__() function is used. Give a suitable example.'''\n",
    "# __init__() is used to take input from the user for a particular class\n",
    "\n",
    "# example-\n",
    "\n",
    "class books():\n",
    "    def __init__(self,type_,author):\n",
    "        self.type_ =type_\n",
    "        self.author =author\n",
    "        \n",
    "    def get_info(self):\n",
    "        print('genre of book:',self.type_)\n",
    "        \n",
    "        print('authorof book:',self.author)\n",
    "        \n",
    "        \n",
    "attack_on_titan =books(\"fanatsy\",\"gege utami\")\n",
    "\n",
    "attack_on_titan.get_info()\n"
   ]
  },
  {
   "cell_type": "code",
   "execution_count": 15,
   "id": "617d4154-8dc8-43e1-8a43-9361a735a32e",
   "metadata": {},
   "outputs": [
    {
     "data": {
      "text/plain": [
       "'Q4. Why self is used in OOPs?'"
      ]
     },
     "execution_count": 15,
     "metadata": {},
     "output_type": "execute_result"
    }
   ],
   "source": [
    "\n",
    "'''Q4. Why self is used in OOPs?'''\n",
    "\n",
    "# func() in class takes 0 positional arguments but 1 was given, hence we use self to counter this error\n"
   ]
  },
  {
   "cell_type": "code",
   "execution_count": 26,
   "id": "57fb0a26-6506-4a86-8aa6-410666427bf0",
   "metadata": {},
   "outputs": [],
   "source": [
    "'''Q5. What is inheritance? Give an example for each type of inheritance.'''\n",
    "\n",
    "# inheritance is a method in oops in which we can inherit or use methods or functions of a parent class in child class\n",
    "\n",
    "# there are two type of imheritances\n",
    "\n",
    "#multiple inheritance\n",
    "\n",
    "#multilevel inheritance\n",
    "\n",
    "# example\n",
    "\n",
    "#multilevel inheritance\n",
    "\n",
    "class parent ():\n",
    "    def func1(self):\n",
    "        \n",
    "        return \"parent\"\n",
    "        \n",
    "        \n",
    "class child (parent):\n",
    "    def func2(self):\n",
    "         return \"child\"\n",
    "        \n",
    "        \n",
    "class grandchild (child):\n",
    "    def func3(self):\n",
    "                  \n",
    "        return \"grandchild\"\n",
    "        \n",
    "        \n",
    "    \n"
   ]
  },
  {
   "cell_type": "code",
   "execution_count": 27,
   "id": "6aa6fa57-c1b6-4985-bf33-cc3dee4281b5",
   "metadata": {},
   "outputs": [
    {
     "data": {
      "text/plain": [
       "'child'"
      ]
     },
     "execution_count": 27,
     "metadata": {},
     "output_type": "execute_result"
    }
   ],
   "source": [
    "obj=grandchild()\n",
    "\n",
    "obj.func2()"
   ]
  },
  {
   "cell_type": "code",
   "execution_count": null,
   "id": "3238afe7-91dd-40cd-9c39-5b83b470a4da",
   "metadata": {},
   "outputs": [],
   "source": [
    "# multiple inhertiance\n",
    "\n"
   ]
  }
 ],
 "metadata": {
  "kernelspec": {
   "display_name": "Python 3 (ipykernel)",
   "language": "python",
   "name": "python3"
  },
  "language_info": {
   "codemirror_mode": {
    "name": "ipython",
    "version": 3
   },
   "file_extension": ".py",
   "mimetype": "text/x-python",
   "name": "python",
   "nbconvert_exporter": "python",
   "pygments_lexer": "ipython3",
   "version": "3.10.8"
  }
 },
 "nbformat": 4,
 "nbformat_minor": 5
}
