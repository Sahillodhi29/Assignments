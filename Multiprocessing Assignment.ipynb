{
 "cells": [
  {
   "cell_type": "code",
   "execution_count": 1,
   "id": "1ffd6364-89f9-4d77-8508-d834e389bd8d",
   "metadata": {},
   "outputs": [
    {
     "data": {
      "text/plain": [
       "'multiprocessing is a module which help us to run multiple processes at a same time from a single thread\\n\\nit is useful because it also improves overall performance of the code '"
      ]
     },
     "execution_count": 1,
     "metadata": {},
     "output_type": "execute_result"
    }
   ],
   "source": [
    "'''Q1. What is multiprocessing in python? Why is it useful?'''\n",
    "\n",
    "'''multiprocessing is a module which help us to run multiple processes at a same time from a single thread\n",
    "\n",
    "it is useful because it also improves overall performance of the code '''"
   ]
  },
  {
   "cell_type": "code",
   "execution_count": 2,
   "id": "b91ed43e-f7e6-4c07-9b66-b45d61f10e97",
   "metadata": {},
   "outputs": [
    {
     "data": {
      "text/plain": [
       "'In Multithreading we create multiple threads from a single process whereas in Multiprocessing ,\\nmuliple proceses can be done from a single thread .\\n\\nMultiprocessing help us to get parallelism and more quick output whereas Multithreading helps us to get \\ndifferent programm working concurrently or simultaneously.'"
      ]
     },
     "execution_count": 2,
     "metadata": {},
     "output_type": "execute_result"
    }
   ],
   "source": [
    "'''Q2. What are the differences between multiprocessing and multithreading?'''\n",
    "\n",
    "'''In Multithreading we create multiple threads from a single process whereas in Multiprocessing ,\n",
    "muliple proceses can be done from a single thread .\n",
    "\n",
    "Multiprocessing help us to get parallelism and more quick output whereas Multithreading helps us to get \n",
    "different programm working concurrently or simultaneously.'''"
   ]
  },
  {
   "cell_type": "code",
   "execution_count": 4,
   "id": "e0a537af-0ae7-45f0-ac8a-a0a2db2741e5",
   "metadata": {},
   "outputs": [
    {
     "name": "stdout",
     "output_type": "stream",
     "text": [
      "this is my main function\n",
      "this is my first multiprocessing \n"
     ]
    }
   ],
   "source": [
    "'''Q3. Write a python code to create a process using the multiprocessing module.'''\n",
    "\n",
    "import multiprocessing\n",
    "\n",
    "def fun1():\n",
    "    print(\"this is my first multiprocessing \")\n",
    "\n",
    "\n",
    "if __name__=='__main__':\n",
    "    \n",
    "    m= multiprocessing.Process(target=fun1)\n",
    "    print(\"this is my main function\")\n",
    "    \n",
    "    m.start()\n",
    "    m.join()"
   ]
  },
  {
   "cell_type": "code",
   "execution_count": null,
   "id": "47c43ada-76a3-40d2-8746-a844d988fa84",
   "metadata": {},
   "outputs": [],
   "source": [
    "'''Q4. What is a multiprocessing pool in python? Why is it used?'''\n",
    "\n",
    "\"\"\"pool is used to run more than one process at a time , it will result into getting the output in lesser time\n",
    "as multiple processes are working on the same thread, it is useful to achieve parallelism .\"\"\""
   ]
  },
  {
   "cell_type": "code",
   "execution_count": 12,
   "id": "459d411d-22ab-4233-b863-2ad258f29238",
   "metadata": {},
   "outputs": [
    {
     "name": "stdout",
     "output_type": "stream",
     "text": [
      "[8, 10, 12, 14, 16, 18]\n"
     ]
    }
   ],
   "source": [
    "'''Q5. How can we create a pool of worker processes in python using the multiprocessing module?'''\n",
    "\n",
    "import multiprocessing\n",
    "\n",
    "def fun2(x):\n",
    "    \n",
    "    return x+5\n",
    "\n",
    "\n",
    "if __name__== '__main__':\n",
    "\n",
    "    \n",
    "    pool = multiprocessing.Pool(processes= 3)\n",
    "    \n",
    "    m3= pool.map(fun2,[3,5,7,9,11,13])\n",
    "    \n",
    "    print(m3)"
   ]
  },
  {
   "cell_type": "code",
   "execution_count": 14,
   "id": "d55849d2-101d-41f5-a9e7-531eea89e0c8",
   "metadata": {},
   "outputs": [],
   "source": [
    "import multiprocessing\n",
    "\n",
    "def test1(x):\n",
    "    return x\n",
    "\n",
    "def test2(y):\n",
    "    return y \n",
    "\n",
    "def test3(z):\n",
    "    return z \n",
    "\n",
    "def test4(w):\n",
    "    return w \n",
    "\n",
    "if __name__=='__main__':\n",
    "    \n",
    "    mp1= multiprocessing.Process(target=test1,args=(5,))\n",
    "    mp2= multiprocessing.Process(target=test2,args=(6,))\n",
    "    mp3= multiprocessing.Process(target=test3,args=(7,))\n",
    "    mp4= multiprocessing.Process(target=test4,args=(8,))\n",
    "    \n",
    "    mp1.start()\n",
    "    mp2.start()\n",
    "    mp3.start()\n",
    "    mp4.start()\n",
    "    \n",
    "    mp1.join()\n",
    "    mp2.join()\n",
    "    mp3.join()\n",
    "    mp4.join()\n",
    "    \n",
    "    \n",
    "    "
   ]
  },
  {
   "cell_type": "code",
   "execution_count": null,
   "id": "2a207c66-133a-4685-b080-ef6232bb136b",
   "metadata": {},
   "outputs": [],
   "source": []
  },
  {
   "cell_type": "code",
   "execution_count": 15,
   "id": "5a51d62a-f5d4-4b17-9389-b474424f2309",
   "metadata": {},
   "outputs": [
    {
     "name": "stdout",
     "output_type": "stream",
     "text": [
      "4\n"
     ]
    }
   ],
   "source": [
    "print(4)"
   ]
  },
  {
   "cell_type": "code",
   "execution_count": null,
   "id": "48b39bf1-5cbc-4a6c-b343-e64b8c0da02f",
   "metadata": {},
   "outputs": [],
   "source": []
  }
 ],
 "metadata": {
  "kernelspec": {
   "display_name": "Python 3 (ipykernel)",
   "language": "python",
   "name": "python3"
  },
  "language_info": {
   "codemirror_mode": {
    "name": "ipython",
    "version": 3
   },
   "file_extension": ".py",
   "mimetype": "text/x-python",
   "name": "python",
   "nbconvert_exporter": "python",
   "pygments_lexer": "ipython3",
   "version": "3.10.8"
  }
 },
 "nbformat": 4,
 "nbformat_minor": 5
}
