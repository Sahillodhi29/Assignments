{
 "cells": [
  {
   "cell_type": "code",
   "execution_count": 4,
   "id": "dc9a4a60-c13f-4aae-ab38-23b48a94fb59",
   "metadata": {},
   "outputs": [
    {
     "name": "stdout",
     "output_type": "stream",
     "text": [
      "to make a tasty maggie in 2 minutes !!\n",
      "['maggie one packet', 'water']\n",
      "put the maggie and water in the utensil and let it get cooked for 5 minutes\n"
     ]
    }
   ],
   "source": [
    "# Q1. What is Abstraction in OOps? Explain with an example.\n",
    "\n",
    "'''abstraction is a method in oops where we can make a class as a blueprint and can use it in any other class by \n",
    "inheriting it and this all is made possible by using abstraction method'''\n",
    "\n",
    "import abc\n",
    "\n",
    "class  experiment () :\n",
    "    \n",
    "    @abc.abstractmethod\n",
    "    \n",
    "    \n",
    "    def aim (self):\n",
    "        pass\n",
    "    @abc.abstractmethod\n",
    "    def materials_req (self):\n",
    "        pass\n",
    "    @abc.abstractmethod\n",
    "    def procedure (self):\n",
    "        pass\n",
    "    \n",
    "    \n",
    "    \n",
    "class making_maggie(experiment):\n",
    "    \n",
    "    def aim(self):\n",
    "        return \"to make a tasty maggie in 2 minutes !!\"\n",
    "    \n",
    "    def materials_req(self):\n",
    "        return [\"maggie one packet\",\"water\"]\n",
    "    \n",
    "    def procedure(self):\n",
    "        return \"put the maggie and water in the utensil and let it get cooked for 5 minutes\"\n",
    "    \n",
    "sahil= making_maggie()\n",
    "\n",
    "print(sahil.aim())\n",
    "\n",
    "print(sahil.materials_req())\n",
    "\n",
    "\n",
    "print(sahil.procedure())\n",
    "    \n",
    "    \n",
    "    \n",
    "    "
   ]
  },
  {
   "cell_type": "code",
   "execution_count": 5,
   "id": "5f110946-d0d7-4095-9afa-8e0fb104cacb",
   "metadata": {},
   "outputs": [
    {
     "ename": "SyntaxError",
     "evalue": "invalid syntax (4292654294.py, line 18)",
     "output_type": "error",
     "traceback": [
      "\u001b[0;36m  Cell \u001b[0;32mIn[5], line 18\u001b[0;36m\u001b[0m\n\u001b[0;31m    bunglow.  # now when you press tab you won't be able to see the instance of area of house\u001b[0m\n\u001b[0m              ^\u001b[0m\n\u001b[0;31mSyntaxError\u001b[0m\u001b[0;31m:\u001b[0m invalid syntax\n"
     ]
    }
   ],
   "source": [
    "'''Q2. Differentiate between Abstraction and Encapsulation. Explain with an example.'''\n",
    "\n",
    "\"\"\"abstraction is a mthod to create a blueprint of a class so it can be used further to another classes \n",
    "whereas in encapsulation we encapsulate or protect a function or an instance from the user ,\n",
    "he wont be able use it if we make it private or protected \"\"\"\n",
    "\n",
    "# we have already seen how abstraction in prev question let us see what is encapsulation with an example\n",
    "\n",
    "class house():\n",
    "    def __init__(self , num_of_rooms,area_of_house,price):\n",
    "        self.num_of_rooms =num_of_rooms\n",
    "        self.__area_of_house = area_of_house # we are making the area of house instance private from the user\n",
    "        self.price = price\n",
    "        \n",
    "bunglow = house(5,\"23 meter sq\",\"25lakhs\")\n",
    "        \n",
    "    \n",
    "bunglow.  # now when you press tab you won't be able to see the instance of area of house  \n",
    "        "
   ]
  },
  {
   "cell_type": "code",
   "execution_count": 6,
   "id": "22877f5a-d966-49d7-b37f-ea0774ab1948",
   "metadata": {},
   "outputs": [
    {
     "data": {
      "text/plain": [
       "'abc module is a module which help us to proceed abstraction method , by importng abc module and then using\\n@abc.abstractmethod then we can easily use the blueprint of the class in another classes'"
      ]
     },
     "execution_count": 6,
     "metadata": {},
     "output_type": "execute_result"
    }
   ],
   "source": [
    "'''Q3. What is abc module in python? Why is it used?'''\n",
    "\n",
    "\"\"\"abc module is a module which help us to proceed abstraction method , by importng abc module and then using\n",
    "@abc.abstractmethod then we can easily use the blueprint of the class in another classes\"\"\"\n"
   ]
  },
  {
   "cell_type": "code",
   "execution_count": 7,
   "id": "fad5b67c-4a74-498f-87f9-2118501a3612",
   "metadata": {},
   "outputs": [
    {
     "data": {
      "text/plain": [
       "'by making a blueprint of a class and importing abc module and using @abc.abstractmethod \\nabstraction can be accomplished'"
      ]
     },
     "execution_count": 7,
     "metadata": {},
     "output_type": "execute_result"
    }
   ],
   "source": [
    "'''Q4. How can we achieve data abstraction?'''\n",
    "\n",
    "\"\"\"by making a blueprint of a class and importing abc module and using @abc.abstractmethod \n",
    "abstraction can be accomplished\"\"\""
   ]
  },
  {
   "cell_type": "code",
   "execution_count": null,
   "id": "26424d7f-1a10-485d-8988-b26da82929a2",
   "metadata": {},
   "outputs": [],
   "source": [
    "'''Q5. Can we create an instance of an abstract class? Explain your answer.'''\n",
    "\n",
    "#to use an instance of an abstract class , firstly import abc module and use @abc.abstractmethod\n",
    "\n",
    "import abc\n",
    "\n",
    "class class1():\n",
    "    \n",
    "    @abc.abstractmethod\n",
    "    def method1(self):\n",
    "        pass\n",
    "    @abc.abstractmethod\n",
    "    def method2(self):\n",
    "        pass\n",
    "    @abc.abstractmethod\n",
    "    def method3(self):\n",
    "        pass\n",
    "    \n",
    "class class2(class1):    #inheriting abstract class\n",
    "    def method1(self):\n",
    "        return \n",
    "    "
   ]
  }
 ],
 "metadata": {
  "kernelspec": {
   "display_name": "Python 3 (ipykernel)",
   "language": "python",
   "name": "python3"
  },
  "language_info": {
   "codemirror_mode": {
    "name": "ipython",
    "version": 3
   },
   "file_extension": ".py",
   "mimetype": "text/x-python",
   "name": "python",
   "nbconvert_exporter": "python",
   "pygments_lexer": "ipython3",
   "version": "3.10.8"
  }
 },
 "nbformat": 4,
 "nbformat_minor": 5
}
