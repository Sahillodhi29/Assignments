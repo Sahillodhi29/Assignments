{
 "cells": [
  {
   "cell_type": "code",
   "execution_count": 1,
   "id": "d1996dc5-4fde-4689-a468-9c6432e54483",
   "metadata": {},
   "outputs": [
    {
     "data": {
      "text/plain": [
       "'It is a concept which help us to organize , analyze and summarize data .'"
      ]
     },
     "execution_count": 1,
     "metadata": {},
     "output_type": "execute_result"
    }
   ],
   "source": [
    "'''Q1. What is Statistics?'''\n",
    "\n",
    "\"It is a concept which help us to organize , analyze and summarize data .\""
   ]
  },
  {
   "cell_type": "code",
   "execution_count": 2,
   "id": "c84e0e21-b88c-4de2-8a1b-06e8417e0ed6",
   "metadata": {},
   "outputs": [
    {
     "data": {
      "text/plain": [
       "'types of statistics-\\n\\n1.Descriptive statistics \\n\\nit consists of organising and summarizing data \\n\\neg- avg of marks of students\\n\\n2.Inferential statistics-\\n\\nit consists of predciting population data with the help of sample data.\\n\\neg- is height of students of whole college is same as cse students.'"
      ]
     },
     "execution_count": 2,
     "metadata": {},
     "output_type": "execute_result"
    }
   ],
   "source": [
    "'''Q2. Define the different types of statistics and give an example of when each type might be used.'''\n",
    "\n",
    "'''types of statistics-\n",
    "\n",
    "1.Descriptive statistics \n",
    "\n",
    "it consists of organising and summarizing data \n",
    "\n",
    "eg- avg of marks of students\n",
    "\n",
    "2.Inferential statistics-\n",
    "\n",
    "it consists of predciting population data with the help of sample data.\n",
    "\n",
    "eg- is height of students of whole college is same as cse students.'''\n"
   ]
  },
  {
   "cell_type": "code",
   "execution_count": 3,
   "id": "f407d03e-c3df-4c23-b70f-3a5b5c30ca77",
   "metadata": {},
   "outputs": [
    {
     "data": {
      "text/plain": [
       "'types of data-\\n\\n1.quantitative-data which are numerical value eg-population\\n\\na.discrete-only whole numbers eg-number of students\\n\\nb.continuous- any numerical value eg-height of students\\n\\n2.qualitative-data which are categorical value eg gender\\n\\na.nominal-no ranking/order eg-fav color\\n\\nb.ordinal- have a order eg- customer feedback '"
      ]
     },
     "execution_count": 3,
     "metadata": {},
     "output_type": "execute_result"
    }
   ],
   "source": [
    "'''Q3. What are the different types of data and how do they differ from each other? Provide an example of\n",
    "each type of data.'''\n",
    "\n",
    "'''types of data-\n",
    "\n",
    "1.quantitative-data which are numerical value eg-population\n",
    "\n",
    "a.discrete-only whole numbers eg-number of students\n",
    "\n",
    "b.continuous- any numerical value eg-height of students\n",
    "\n",
    "2.qualitative-data which are categorical value eg gender\n",
    "\n",
    "a.nominal-no ranking/order eg-fav color\n",
    "\n",
    "b.ordinal- have a order eg- customer feedback '''\n",
    "\n"
   ]
  },
  {
   "cell_type": "code",
   "execution_count": 4,
   "id": "edb0437e-71e3-4956-bbd7-85b8515cd65d",
   "metadata": {},
   "outputs": [
    {
     "data": {
      "text/plain": [
       "'Q4. Categorise the following datasets with respect to quantitative and qualitative data types:\\n\\n\\n(i) Grading in exam: A+, A, B+, B, C+, C, D, E  - qualitative\\n(ii) Colour of mangoes: yellow, green, orange, red -qualitative\\n(iii) Height data of a class: [178.9, 179, 179.5, 176, 177.2, 178.3, 175.8,...] -quantitative\\n(iv) Number of mangoes exported by a farm: [500, 600, 478, 672, ...] -quantitative\\n\\n'"
      ]
     },
     "execution_count": 4,
     "metadata": {},
     "output_type": "execute_result"
    }
   ],
   "source": [
    "'''Q4. Categorise the following datasets with respect to quantitative and qualitative data types:\n",
    "\n",
    "\n",
    "(i) Grading in exam: A+, A, B+, B, C+, C, D, E  - qualitative\n",
    "(ii) Colour of mangoes: yellow, green, orange, red -qualitative\n",
    "(iii) Height data of a class: [178.9, 179, 179.5, 176, 177.2, 178.3, 175.8,...] -quantitative\n",
    "(iv) Number of mangoes exported by a farm: [500, 600, 478, 672, ...] -quantitative\n",
    "\n",
    "'''"
   ]
  },
  {
   "cell_type": "code",
   "execution_count": 5,
   "id": "bbb05c2b-ff5b-4c24-9270-8463b4e15a17",
   "metadata": {},
   "outputs": [
    {
     "data": {
      "text/plain": [
       "\"levels of measurement-\\n\\n1.Nominal-\\n\\norder doesn't matter\\n\\neg-gender\\n\\n\\n2.Ordinal\\n\\norder matter\\n\\ncan't find difference\\n\\neg-customer feedback\\n\\n3.Interval\\n\\norder matter\\n\\ndifference measurable\\n\\nratio can't be measured\\n\\nno '0' starting point\\n\\neg- temperature scale\\n\\n4.Ratio\\n\\norder matter \\n\\ndifference measurable\\n\\nratio measurable\\n\\nhas a '0' starting point\\n\\neg- marks of students\\n\""
      ]
     },
     "execution_count": 5,
     "metadata": {},
     "output_type": "execute_result"
    }
   ],
   "source": [
    "'''Q5. Explain the concept of levels of measurement and give an example of a variable for each level.'''\n",
    "\n",
    "'''levels of measurement-\n",
    "\n",
    "1.Nominal-\n",
    "\n",
    "order doesn't matter\n",
    "\n",
    "eg-gender\n",
    "\n",
    "\n",
    "2.Ordinal\n",
    "\n",
    "order matter\n",
    "\n",
    "can't find difference\n",
    "\n",
    "eg-customer feedback\n",
    "\n",
    "3.Interval\n",
    "\n",
    "order matter\n",
    "\n",
    "difference measurable\n",
    "\n",
    "ratio can't be measured\n",
    "\n",
    "no '0' starting point\n",
    "\n",
    "eg- temperature scale\n",
    "\n",
    "4.Ratio\n",
    "\n",
    "order matter \n",
    "\n",
    "difference measurable\n",
    "\n",
    "ratio measurable\n",
    "\n",
    "has a '0' starting point\n",
    "\n",
    "eg- marks of students\n",
    "'''\n"
   ]
  },
  {
   "cell_type": "code",
   "execution_count": 6,
   "id": "7e504e49-58c9-47db-bd32-32932ff6ca2d",
   "metadata": {},
   "outputs": [
    {
     "data": {
      "text/plain": [
       "\"it's important to know the level of measurement because different levels of measurement can be analyzed\\nfor and by different attributes \\n\\nfor example - it there are two data columns one has nominal scale data and other has interval scale data \\n\\nthen for nominal scale data we can categories the data whereas for interval scale data we can put them in order \\nand can measure the differences of data. \""
      ]
     },
     "execution_count": 6,
     "metadata": {},
     "output_type": "execute_result"
    }
   ],
   "source": [
    "'''Q6. Why is it important to understand the level of measurement when analyzing data? Provide an\n",
    "example to illustrate your answer.'''\n",
    "\n",
    "'''it's important to know the level of measurement because different levels of measurement can be analyzed\n",
    "for and by different attributes \n",
    "\n",
    "for example - it there are two data columns one has nominal scale data and other has interval scale data \n",
    "\n",
    "then for nominal scale data we can categories the data whereas for interval scale data we can put them in order \n",
    "and can measure the differences of data. '''"
   ]
  },
  {
   "cell_type": "code",
   "execution_count": 7,
   "id": "1ec53984-af36-4b8f-9d40-93cefce2e87f",
   "metadata": {},
   "outputs": [
    {
     "data": {
      "text/plain": [
       "\"in nominal data type , order doesn't matter whereas in ordinal data type order matters.\""
      ]
     },
     "execution_count": 7,
     "metadata": {},
     "output_type": "execute_result"
    }
   ],
   "source": [
    "'''Q7. How nominal data type is different from ordinal data type.'''\n",
    "\n",
    "'''in nominal data type , order doesn't matter whereas in ordinal data type order matters.''' "
   ]
  },
  {
   "cell_type": "code",
   "execution_count": 8,
   "id": "1248d655-a551-4868-9f42-6bba0fc622ac",
   "metadata": {},
   "outputs": [
    {
     "data": {
      "text/plain": [
       "'interval scale data can be used to display data in terms of range'"
      ]
     },
     "execution_count": 8,
     "metadata": {},
     "output_type": "execute_result"
    }
   ],
   "source": [
    "'''Q8. Which type of plot can be used to display data in terms of range?'''\n",
    "\n",
    "'''interval scale data can be used to display data in terms of range'''"
   ]
  },
  {
   "cell_type": "code",
   "execution_count": 9,
   "id": "f6764276-551e-4ef5-b82e-a0aa99d72c59",
   "metadata": {},
   "outputs": [
    {
     "data": {
      "text/plain": [
       "'descriptive statistics\\n\\nit consists of organising and summarizing data \\n\\neg- avg of marks of students\\n\\nit is used to find measures of central tendency like mean ,median ,mode and measures of dispersion like\\nvariance ,standard deviation\\n\\n\\ninferential statistics\\n\\nit consists of predciting population data with the help of sample data.\\n\\neg- is height of students of whole college is same as cse students.\\n\\nit is used to to analyze or predict the large data by analyzing the sample or small data of it.'"
      ]
     },
     "execution_count": 9,
     "metadata": {},
     "output_type": "execute_result"
    }
   ],
   "source": [
    "'''Q9. Describe the difference between descriptive and inferential statistics. Give an example of each\n",
    "type of statistics and explain how they are used.'''\n",
    "\n",
    "'''descriptive statistics\n",
    "\n",
    "it consists of organising and summarizing data \n",
    "\n",
    "eg- avg of marks of students\n",
    "\n",
    "it is used to find measures of central tendency like mean ,median ,mode and measures of dispersion like\n",
    "variance ,standard deviation\n",
    "\n",
    "\n",
    "inferential statistics\n",
    "\n",
    "it consists of predciting population data with the help of sample data.\n",
    "\n",
    "eg- is height of students of whole college is same as cse students.\n",
    "\n",
    "it is used to to analyze or predict the large data by analyzing the sample or small data of it.'''"
   ]
  },
  {
   "cell_type": "code",
   "execution_count": 10,
   "id": "514b1665-baaa-42ab-98ec-4e8f55cf6b06",
   "metadata": {},
   "outputs": [
    {
     "data": {
      "text/plain": [
       "'some common measures of central tendency and variability used in statistics are-\\n\\nmean\\n\\nmedian \\n\\nmode \\n\\nstandard deviation \\n\\nvariance '"
      ]
     },
     "execution_count": 10,
     "metadata": {},
     "output_type": "execute_result"
    }
   ],
   "source": [
    "'''Q10. What are some common measures of central tendency and variability used in statistics? Explain\n",
    "how each measure can be used to describe a dataset.'''\n",
    "\n",
    "'''some common measures of central tendency and variability used in statistics are-\n",
    "\n",
    "mean\n",
    "\n",
    "median \n",
    "\n",
    "mode \n",
    "\n",
    "standard deviation \n",
    "\n",
    "variance '''"
   ]
  },
  {
   "cell_type": "code",
   "execution_count": 11,
   "id": "925711a5-c07c-4039-b95a-99f805d95529",
   "metadata": {},
   "outputs": [
    {
     "name": "stdout",
     "output_type": "stream",
     "text": [
      "2.99827868852459\n",
      "17.795\n",
      "1.3807999538298958\n"
     ]
    }
   ],
   "source": [
    "import numpy as np \n",
    "\n",
    "import seaborn as sns\n",
    "\n",
    "df=sns.load_dataset('tips')\n",
    "\n",
    "print(np.mean(df['tip']))\n",
    "\n",
    "print(np.median(df['total_bill']))\n",
    "\n",
    "print(np.std(df['tip']))"
   ]
  },
  {
   "cell_type": "code",
   "execution_count": null,
   "id": "936efced-bd36-4838-be1a-496f5e06744d",
   "metadata": {},
   "outputs": [],
   "source": []
  }
 ],
 "metadata": {
  "kernelspec": {
   "display_name": "Python 3 (ipykernel)",
   "language": "python",
   "name": "python3"
  },
  "language_info": {
   "codemirror_mode": {
    "name": "ipython",
    "version": 3
   },
   "file_extension": ".py",
   "mimetype": "text/x-python",
   "name": "python",
   "nbconvert_exporter": "python",
   "pygments_lexer": "ipython3",
   "version": "3.10.8"
  }
 },
 "nbformat": 4,
 "nbformat_minor": 5
}
