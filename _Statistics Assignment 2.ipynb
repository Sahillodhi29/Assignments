{
 "cells": [
  {
   "cell_type": "code",
   "execution_count": null,
   "id": "ea66c40b-1aa2-4623-bb32-0d0c6d98e32f",
   "metadata": {},
   "outputs": [],
   "source": [
    "'''Q1. What are the three measures of central tendency?'''\n",
    "\n",
    "'''mean \n",
    "\n",
    "median \n",
    "\n",
    "mode'''"
   ]
  },
  {
   "cell_type": "code",
   "execution_count": 7,
   "id": "3280ea92-f9a6-4ef2-9aba-ac72ab09ef9b",
   "metadata": {},
   "outputs": [
    {
     "name": "stdout",
     "output_type": "stream",
     "text": [
      "mean: 2.99827868852459\n",
      "median: 17.795\n",
      "mode: ModeResult(mode=array(['Male'], dtype=object), count=array([157]))\n"
     ]
    },
    {
     "name": "stderr",
     "output_type": "stream",
     "text": [
      "/tmp/ipykernel_77/2922871409.py:22: FutureWarning: Unlike other reduction functions (e.g. `skew`, `kurtosis`), the default behavior of `mode` typically preserves the axis it acts along. In SciPy 1.11.0, this behavior will change: the default value of `keepdims` will become False, the `axis` over which the statistic is taken will be eliminated, and the value None will no longer be accepted. Set `keepdims` to True or False to avoid this warning.\n",
      "  print('mode:',stats.mode(df['sex']))\n",
      "/opt/conda/lib/python3.10/site-packages/scipy/stats/_stats_py.py:112: RuntimeWarning: The input array could not be properly checked for nan values. nan values will be ignored.\n",
      "  warnings.warn(\"The input array could not be properly \"\n",
      "/tmp/ipykernel_77/2922871409.py:22: DeprecationWarning: Support for non-numeric arrays has been deprecated as of SciPy 1.9.0 and will be removed in 1.11.0. `pandas.DataFrame.mode` can be used instead, see https://pandas.pydata.org/docs/reference/api/pandas.DataFrame.mode.html.\n",
      "  print('mode:',stats.mode(df['sex']))\n"
     ]
    }
   ],
   "source": [
    "'''Q2. What is the difference between the mean, median, and mode? How are they used to measure the \n",
    "central tendency of a dataset?'''\n",
    "\n",
    "'''mean- it gives the average of the given dataset\n",
    "\n",
    "median- it help us to give an accurate average of dataset when there is a outlier.\n",
    "\n",
    "mode- it gives us the most occuring number of data from the given dataset.'''\n",
    "\n",
    "import numpy as np \n",
    "\n",
    "import seaborn as sns\n",
    "\n",
    "from scipy import stats\n",
    "\n",
    "df=sns.load_dataset('tips')\n",
    "\n",
    "print(\"mean:\",np.mean(df['tip']))\n",
    "\n",
    "print(\"median:\",np.median(df['total_bill']))\n",
    "\n",
    "print('mode:',stats.mode(df['sex']))"
   ]
  },
  {
   "cell_type": "code",
   "execution_count": 8,
   "id": "75b1a15e-3bd0-4955-9691-12d06779e9de",
   "metadata": {},
   "outputs": [
    {
     "name": "stdout",
     "output_type": "stream",
     "text": [
      "mean: 177.01875\n",
      "median: 177.0\n",
      "mode: ModeResult(mode=array([177.]), count=array([3]))\n"
     ]
    },
    {
     "name": "stderr",
     "output_type": "stream",
     "text": [
      "/tmp/ipykernel_77/1736757029.py:13: FutureWarning: Unlike other reduction functions (e.g. `skew`, `kurtosis`), the default behavior of `mode` typically preserves the axis it acts along. In SciPy 1.11.0, this behavior will change: the default value of `keepdims` will become False, the `axis` over which the statistic is taken will be eliminated, and the value None will no longer be accepted. Set `keepdims` to True or False to avoid this warning.\n",
      "  print('mode:',stats.mode(height))\n"
     ]
    }
   ],
   "source": [
    "'''Q3. Measure the three measures of central tendency for the given height data:\n",
    "\n",
    " [178,177,176,177,178.2,178,175,179,180,175,178.9,176.2,177,172.5,178,176.5]'''\n",
    "import numpy as np\n",
    "from scipy import stats\n",
    "\n",
    "height=[178,177,176,177,178.2,178,175,179,180,175,178.9,176.2,177,172.5,178,176.5]\n",
    "\n",
    "print(\"mean:\",np.mean(height))\n",
    "\n",
    "print(\"median:\",np.median(height))\n",
    "\n",
    "print('mode:',stats.mode(height))"
   ]
  },
  {
   "cell_type": "code",
   "execution_count": 9,
   "id": "a162c573-3ba2-4edd-b4da-2342d87dd272",
   "metadata": {},
   "outputs": [
    {
     "name": "stdout",
     "output_type": "stream",
     "text": [
      "standard deviation: 1.7885814036548633\n"
     ]
    }
   ],
   "source": [
    "'''Q4. Find the standard deviation for the given data:\n",
    "\n",
    "[178,177,176,177,178.2,178,175,179,180,175,178.9,176.2,177,172.5,178,176.5]'''\n",
    "import numpy as np\n",
    "data=[178,177,176,177,178.2,178,175,179,180,175,178.9,176.2,177,172.5,178,176.5]\n",
    "\n",
    "print(\"standard deviation:\",np.std(data))"
   ]
  },
  {
   "cell_type": "code",
   "execution_count": null,
   "id": "0d14fcfd-8d5f-4b14-b375-8aea8712aa2d",
   "metadata": {},
   "outputs": [],
   "source": [
    "'''Q5. How are measures of dispersion such as range, variance, and standard deviation used to describe \n",
    "the spread of a dataset? Provide an example.'''\n",
    "\n",
    "\n",
    "''''\n",
    "\n",
    "range is the simplest measures od dispersion \n",
    "\n",
    "it gives the difference between max value to min value.\n",
    "\n",
    "\n",
    "variance gives the spread of the data\n",
    "\n",
    "for example if variance is small then the data will have steep and high curve\n",
    "            whereas if variance is large then the data will have wider and low curve\n",
    "    \n",
    "    \n",
    "standard deviation gives deviations of data from one to another\n",
    "\n",
    "for example let std is 1.5 and the middle value is 3 then the next value to it will be 3+1.5 = 4.5 and previous value\n",
    "            will be 3-1.5=1.5 . this deviation of value by value is known as standard deviation.\n",
    "    '''\n",
    "    "
   ]
  },
  {
   "cell_type": "code",
   "execution_count": null,
   "id": "02463115-0edc-4bfa-a844-d5472826310f",
   "metadata": {},
   "outputs": [],
   "source": [
    "'''Q6. What is a Venn diagram?'''\n",
    "'''\n",
    "\n",
    "venn diagram is a visual representation of how two or more sets of data are related.\n",
    "it is generally shown by two or more intersecting circles.\n",
    "\n",
    "'''"
   ]
  },
  {
   "cell_type": "code",
   "execution_count": null,
   "id": "35a38111-50bc-4400-98d5-4f5379664ad3",
   "metadata": {},
   "outputs": [],
   "source": [
    "'''Q7. For the two given sets A = (2,3,4,5,6,7) & B = (0,2,6,8,10). Find:\n",
    "\n",
    "(i) \tA intersection B\n",
    "\n",
    "(ii)\tA ⋃ B'''\n",
    "\n",
    "'''\n",
    "1.A intersection B gives us the common elements of A and B\n",
    "\n",
    "(2,6)\n",
    "\n",
    "2.A ⋃ B gives us all the elements in A and B\n",
    "\n",
    "(0,2,3,4,5,6,7,8,10)\n",
    "\n",
    "'''"
   ]
  },
  {
   "cell_type": "code",
   "execution_count": null,
   "id": "7486534b-10c1-4bbb-8114-c998883adec5",
   "metadata": {},
   "outputs": [],
   "source": [
    "'''Q8. What do you understand about skewness in data?'''\n",
    "\n",
    "'''skewness in data tells us about the asymmetry in a dataset.\n",
    "\n",
    "there are two types of skewness -\n",
    "\n",
    "right or positive skewness\n",
    "\n",
    "left or negetive skewness'''"
   ]
  },
  {
   "cell_type": "code",
   "execution_count": null,
   "id": "f7b04e9e-bc9b-460e-84e9-42babb4f188f",
   "metadata": {},
   "outputs": [],
   "source": [
    "'''Q9. If a data is right skewed then what will be the position of median with respect to mean?'''\n",
    "\n",
    "# median is greater than mean"
   ]
  },
  {
   "cell_type": "code",
   "execution_count": null,
   "id": "c1c232bc-90e6-4f7b-9d85-7c579e1c80e1",
   "metadata": {},
   "outputs": [],
   "source": [
    "'''Q10. Explain the difference between covariance and correlation. How are these measures used in \n",
    "statistical analysis?'''\n",
    "\n",
    "'''covariance\n",
    "\n",
    "it has no limit to it's value \n",
    "\n",
    "it doesn't provide a proper relationship between variables.\n",
    "\n",
    "positve covariance when both variable decrease and increase together\n",
    "\n",
    "negetive covariance when variables are alternating .\n",
    "\n",
    "\n",
    "correlation\n",
    "\n",
    "it has limit from -1 to 1.\n",
    "\n",
    "it provides a proper relationship between variables.\n",
    "\n",
    "there are two types of correlation\n",
    "\n",
    "pearson correlation\n",
    "\n",
    "sphearman rank correlation\n",
    "\n",
    "\n",
    "\n",
    "these measures are used to analyze the nature and relationship of dataset.\n",
    "\n",
    "'''\n"
   ]
  },
  {
   "cell_type": "code",
   "execution_count": 4,
   "id": "c4b107f6-c26b-4179-9ed0-317d28ff2e9c",
   "metadata": {},
   "outputs": [
    {
     "data": {
      "text/plain": [
       "85.625"
      ]
     },
     "execution_count": 4,
     "metadata": {},
     "output_type": "execute_result"
    }
   ],
   "source": [
    "'''Q11. What is the formula for calculating the sample mean? Provide an example calculation for a \n",
    "dataset.'''\n",
    "\n",
    "\n",
    "# Sample Mean = (Sum of all data points) / (Number of data points)\n",
    "import numpy as np\n",
    "dataset = [78, 92, 85, 88, 76, 95, 89, 82]\n",
    "\n",
    "np.mean(dataset)\n",
    "\n"
   ]
  },
  {
   "cell_type": "code",
   "execution_count": null,
   "id": "884bd9de-160c-4729-a44d-e9ee2342c82b",
   "metadata": {},
   "outputs": [],
   "source": [
    "'''Q12. For a normal distribution data what is the relationship between its measure of central tendency?'''\n",
    "\n",
    "# mean=median=mode"
   ]
  },
  {
   "cell_type": "code",
   "execution_count": null,
   "id": "e7e9dac2-316d-4db1-a3bc-0fee17ea3089",
   "metadata": {},
   "outputs": [],
   "source": [
    "'''Q13. How is covariance different from correlation?'''\n",
    "\n",
    "'''\n",
    "covariance doesn't have any limit and hence can't provide a proper relationship between variables whereas\n",
    "correlation have a limit from -1 to 1 and provide a better relationship between variables\n",
    "\n",
    "'''"
   ]
  },
  {
   "cell_type": "code",
   "execution_count": 6,
   "id": "bdbf7f03-7652-492f-8d34-ad05f8e160d6",
   "metadata": {},
   "outputs": [
    {
     "name": "stdout",
     "output_type": "stream",
     "text": [
      "WITHOUT OUTLIERS\n",
      "mean: 85.625\n",
      "median: 86.5\n",
      "mode: ModeResult(mode=array([76]), count=array([1]))\n",
      "variance: 38.734375\n",
      "standard deviation: 6.223694642252301\n",
      "WITH OUTLIERS\n",
      "mean: 269.0\n",
      "median: 88.5\n",
      "mode: ModeResult(mode=array([76]), count=array([1]))\n",
      "variance: 198268.6\n",
      "standard deviation: 445.273623741627\n"
     ]
    },
    {
     "name": "stderr",
     "output_type": "stream",
     "text": [
      "/tmp/ipykernel_77/780585366.py:15: FutureWarning: Unlike other reduction functions (e.g. `skew`, `kurtosis`), the default behavior of `mode` typically preserves the axis it acts along. In SciPy 1.11.0, this behavior will change: the default value of `keepdims` will become False, the `axis` over which the statistic is taken will be eliminated, and the value None will no longer be accepted. Set `keepdims` to True or False to avoid this warning.\n",
      "  print('mode:',stats.mode(data))\n",
      "/tmp/ipykernel_77/780585366.py:29: FutureWarning: Unlike other reduction functions (e.g. `skew`, `kurtosis`), the default behavior of `mode` typically preserves the axis it acts along. In SciPy 1.11.0, this behavior will change: the default value of `keepdims` will become False, the `axis` over which the statistic is taken will be eliminated, and the value None will no longer be accepted. Set `keepdims` to True or False to avoid this warning.\n",
      "  print('mode:',stats.mode(data1))\n"
     ]
    }
   ],
   "source": [
    "'''Q14. How do outliers affect measures of central tendency and dispersion? Provide an example'''\n",
    "\n",
    "print(\"WITHOUT OUTLIERS\")\n",
    "\n",
    "data=[78, 92, 85, 88, 76, 95, 89, 82]\n",
    "\n",
    "import numpy as np \n",
    "\n",
    "from scipy import stats\n",
    "\n",
    "print(\"mean:\",np.mean(data))\n",
    "\n",
    "print(\"median:\",np.median(data))\n",
    "\n",
    "print('mode:',stats.mode(data))\n",
    "\n",
    "print(\"variance:\",np.var(data))\n",
    "\n",
    "print(\"standard deviation:\",np.std(data))\n",
    "\n",
    "print(\"WITH OUTLIERS\")\n",
    "\n",
    "data1=[78, 92, 85, 88, 76, 95, 89, 82,1567,438]\n",
    "\n",
    "print(\"mean:\",np.mean(data1))\n",
    "\n",
    "print(\"median:\",np.median(data1))\n",
    "\n",
    "print('mode:',stats.mode(data1))\n",
    "\n",
    "print(\"variance:\",np.var(data1))\n",
    "\n",
    "print(\"standard deviation:\",np.std(data1))"
   ]
  },
  {
   "cell_type": "code",
   "execution_count": null,
   "id": "7ed1e7a4-1cd8-4ee4-b1ba-4d7d1fc37b5e",
   "metadata": {},
   "outputs": [],
   "source": [
    "'''we can clearly see that except mode and median ,other measures got affacted by outliers to a great extent'''"
   ]
  }
 ],
 "metadata": {
  "kernelspec": {
   "display_name": "Python 3 (ipykernel)",
   "language": "python",
   "name": "python3"
  },
  "language_info": {
   "codemirror_mode": {
    "name": "ipython",
    "version": 3
   },
   "file_extension": ".py",
   "mimetype": "text/x-python",
   "name": "python",
   "nbconvert_exporter": "python",
   "pygments_lexer": "ipython3",
   "version": "3.10.8"
  }
 },
 "nbformat": 4,
 "nbformat_minor": 5
}
