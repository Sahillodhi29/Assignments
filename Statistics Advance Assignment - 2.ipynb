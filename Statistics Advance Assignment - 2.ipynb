{
 "cells": [
  {
   "cell_type": "code",
   "execution_count": null,
   "id": "3f94cdab-299f-4324-8824-8451aa10e4d5",
   "metadata": {},
   "outputs": [],
   "source": [
    "'''Q1: What are the Probability Mass Function (PMF) and Probability Density Function (PDF)? Explain with\n",
    "an example.'''\n",
    "\n",
    "'''Probability Mass Function is used to plot a distribution function of a discrete random variable.\n",
    "whereas Probability Density Function is used to plot a distribution of a continuous variable.\n",
    "\n",
    "for example \n",
    "\n",
    "for PMF - rolling a dice\n",
    "\n",
    "for PDF - heights of students in a class'''"
   ]
  },
  {
   "cell_type": "code",
   "execution_count": null,
   "id": "36f4998c-9bd9-4671-8100-59c304c1ad92",
   "metadata": {},
   "outputs": [],
   "source": [
    "'''Q2: What is Cumulative Density Function (CDF)? Explain with an example. Why CDF is used?'''\n",
    "\n",
    "'''Cumulative Density Function (CDF) gives the cumulative probabilty distribution .\n",
    "\n",
    "for example - what is the probability distribution of getting a number less than or equal to 4 for a die.\n",
    "\n",
    "it is used to give us the clear image of probability distribution '''\n"
   ]
  },
  {
   "cell_type": "code",
   "execution_count": null,
   "id": "99fa1706-8403-473d-a9ba-c2661068e310",
   "metadata": {},
   "outputs": [],
   "source": [
    "'''Q3: What are some examples of situations where the normal distribution might be used as a model?\n",
    "Explain how the parameters of the normal distribution relate to the shape of the distribution.'''\n",
    "\n",
    "'''weights of students in school use the normal distribution model .\n",
    "\n",
    "the paramters like Mean gives us the peak of the distribution and \n",
    "Standard Deviation gives the dispersion or spread of data .'''\n"
   ]
  },
  {
   "cell_type": "code",
   "execution_count": null,
   "id": "43b8358d-6a96-486c-9f32-04b562ec40b5",
   "metadata": {},
   "outputs": [],
   "source": [
    "'''Q4: Explain the importance of Normal Distribution. Give a few real-life examples of Normal\n",
    "Distribution.'''\n",
    "'''\n",
    "normal distribution has no skewnesss that means it has symmetrical distribution and \n",
    "there are many real life examples which arebased on normal distribution like-\n",
    "\n",
    "height of population\n",
    "\n",
    "IQ scores \n",
    "\n",
    "weight of students , etc.'''"
   ]
  },
  {
   "cell_type": "code",
   "execution_count": 1,
   "id": "a8155327-1eef-4e9a-aceb-d93f55c1a143",
   "metadata": {},
   "outputs": [
    {
     "data": {
      "text/plain": [
       "'Q5: What is Bernaulli Distribution? Give an Example. What is the difference between Bernoulli\\nDistribution and Binomial Distribution?'"
      ]
     },
     "execution_count": 1,
     "metadata": {},
     "output_type": "execute_result"
    }
   ],
   "source": [
    "'''Q5: What is Bernaulli Distribution? Give an Example. What is the difference between Bernoulli\n",
    "Distribution and Binomial Distribution?'''\n",
    "\n",
    "'''Bernaulli Distribution-\n",
    "\n",
    "it is used for discrete random variable ,it means PMF is used \n",
    "\n",
    "the outcomes are binary \n",
    "\n",
    "the probability of success is called p \n",
    "\n",
    "the probability of failure is called q =1-p\n",
    "\n",
    "example- tossing a fair coin \n",
    "\n",
    "p = 0.5\n",
    "q = 0.5\n",
    "\n",
    "difference between Bernoulli\n",
    "Distribution and Binomial Distribution-\n",
    "\n",
    "in Bernoulli Distribution we do it for one trial whereas for Binomial Distribution we do 'n' number of trials. and rest \n",
    "other things are same.'''"
   ]
  },
  {
   "cell_type": "code",
   "execution_count": null,
   "id": "71c53822-3e3b-45d3-8411-46253cfacefa",
   "metadata": {},
   "outputs": [],
   "source": [
    "'''Q6. Consider a dataset with a mean of 50 and a standard deviation of 10. If we assume that the dataset\n",
    "is normally distributed, what is the probability that a randomly selected observation will be greater\n",
    "than 60? Use the appropriate formula and show your calculations.'''\n",
    "'''\n",
    "\n",
    "given -\n",
    "\n",
    "mean (μ)=50\n",
    "std(σ)=10\n",
    "X=60\n",
    "dataset normally distributed\n",
    "\n",
    "now we know that\n",
    "\n",
    "Z = (X - μ) / σ\n",
    "\n",
    "Z = (60 - 50) / 10 = 10 / 10 = 1\n",
    "\n",
    "now using z table the probabilty of z<1 = 0.8413 \n",
    "\n",
    "hence the probability that a randomly selected observation will be greater\n",
    "than 60( z>1)= 1- z<1 = 0.1587 or 15.87% \n",
    "\n",
    "'''"
   ]
  },
  {
   "cell_type": "code",
   "execution_count": null,
   "id": "b2374168-d5a9-4e3b-9d6c-1851127c0660",
   "metadata": {},
   "outputs": [],
   "source": [
    "'''Q7: Explain uniform Distribution with an example.'''\n",
    "'''\n",
    "uniform Distribution has same probabilty of every value within a limit \n",
    "\n",
    "it can be discrete and continuous too.\n",
    "\n",
    "it has equal probability of every outcome.\n",
    "\n",
    "example -\n",
    " rolling a die and getting probabily of 1 or 2 or 3 or 4 or 5 or 6 \n",
    "    max limit = 6\n",
    "    min limit =1\n",
    "    \n",
    "    p = 1/max limit - min limit\n",
    "    \n",
    "    p- 1/5\n",
    "    \n",
    "    \n",
    "    \n",
    "    '''"
   ]
  },
  {
   "cell_type": "code",
   "execution_count": null,
   "id": "d24f5ef2-11bf-4603-957d-af68fae8eb95",
   "metadata": {},
   "outputs": [],
   "source": [
    "'''Q8: What is the z score? State the importance of the z score.'''\n",
    "\n",
    "'''z score is find by using mean std dev of population and X .\n",
    "\n",
    "formula= Z = (X - μ) / σ\n",
    "\n",
    "where μ is mean and  σ is std\n",
    "\n",
    "z score id found by using z table \n",
    "\n",
    "importance of the z score\n",
    "\n",
    "z score is an important value to complete z test , without z score we can't provide conclusion\n",
    "for population data from sample data which is our main aim in inferential statistics '''"
   ]
  },
  {
   "cell_type": "code",
   "execution_count": null,
   "id": "7695cedb-b4c9-4c7b-8b68-c25ccd508190",
   "metadata": {},
   "outputs": [],
   "source": [
    "'''Q9: What is Central Limit Theorem? State the significance of the Central Limit Theorem.'''\n",
    "\n",
    "'''Central Limit Theorem says that the sampling distribution of the mean is always normally distributed \n",
    "if the sample size is large enough . regardless whether it is a poisson or binomial or any distribution , \n",
    "it will always be normally distributed .\n",
    "\n",
    "for normal distribution value of n(sample size ) can be any value \n",
    "\n",
    "for other distribution value of n(sample size ) should be greater or equal to 30. '''"
   ]
  },
  {
   "cell_type": "code",
   "execution_count": null,
   "id": "5c2e9ce3-60b1-4d25-8bdc-0a17c3666f9c",
   "metadata": {},
   "outputs": [],
   "source": [
    "'''Q10: State the assumptions of the Central Limit Theorem.'''\n",
    "\n",
    "'''assumptions of the Central Limit Theorem-\n",
    "\n",
    "The samples must be drawn randomly from the population of interest. \n",
    "\n",
    "sample size >=30'''\n",
    "\n",
    "\n",
    "\n"
   ]
  }
 ],
 "metadata": {
  "kernelspec": {
   "display_name": "Python 3 (ipykernel)",
   "language": "python",
   "name": "python3"
  },
  "language_info": {
   "codemirror_mode": {
    "name": "ipython",
    "version": 3
   },
   "file_extension": ".py",
   "mimetype": "text/x-python",
   "name": "python",
   "nbconvert_exporter": "python",
   "pygments_lexer": "ipython3",
   "version": "3.10.8"
  }
 },
 "nbformat": 4,
 "nbformat_minor": 5
}
