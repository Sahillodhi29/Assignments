{
 "cells": [
  {
   "cell_type": "code",
   "execution_count": 14,
   "id": "6af8388a-99fd-4227-beb0-6eda2e8ca232",
   "metadata": {},
   "outputs": [],
   "source": [
    "'''Q1, Create a vehicle class with an init method having instance variables as name_of_vehicle, max_speed\n",
    "and average_of_vehicle.'''\n",
    "\n",
    "class vehicle():\n",
    "    def __init__(self,name_of_vehicle, max_speed , average_of_vehicle):\n",
    "        self.name_of_vehicle = name_of_vehicle\n",
    "        self.max_speed = max_speed\n",
    "        self.average_of_vehicle = average_of_vehicle\n",
    "        \n",
    "    def return_vehicle_detials(self):\n",
    "        a=print(\"model:\",self.name_of_vehicle)\n",
    "        b=print(\"max speed :\",self.max_speed)\n",
    "        c=print(\"avg of vehicle :\",self.average_of_vehicle)\n",
    "        \n",
    "        \n",
    "    \n",
    "    \n",
    "    "
   ]
  },
  {
   "cell_type": "code",
   "execution_count": 15,
   "id": "e8074642-60a5-480c-a435-304d8b0343d4",
   "metadata": {},
   "outputs": [],
   "source": [
    "vehi=vehicle(\"lamborghini\",\"1000 km \",\"50\")"
   ]
  },
  {
   "cell_type": "code",
   "execution_count": 16,
   "id": "9b45d5f6-2c1b-4422-bc62-363b29f227ec",
   "metadata": {},
   "outputs": [
    {
     "name": "stdout",
     "output_type": "stream",
     "text": [
      "model: lamborghini\n",
      "max speed : 1000 km \n",
      "avg of vehicle : 50\n"
     ]
    }
   ],
   "source": [
    "vehi.return_vehicle_detials()"
   ]
  },
  {
   "cell_type": "code",
   "execution_count": 34,
   "id": "e0b77186-0890-474f-95fd-83802bd0458d",
   "metadata": {},
   "outputs": [
    {
     "name": "stdout",
     "output_type": "stream",
     "text": [
      "name of vehicle: alto\n",
      "seating capacity of the car is : six ppl\n"
     ]
    }
   ],
   "source": [
    "'''Q2. Create a child class car from the vehicle class created in Que 1, which will inherit the vehicle class.\n",
    "Create a method named seating_capacity which takes capacity as an argument and returns the name of\n",
    "the vehicle and its seating capacity.'''\n",
    "\n",
    "class vehicle ():\n",
    "    def __init__(self,name_of_vehicle,max_speed,average_of_vehicle):\n",
    "        self.name_of_vehicle= name_of_vehicle\n",
    "        self.max_speed= max_speed\n",
    "        self.average_of_vehicle= average_of_vehicle\n",
    "    \n",
    "    def vehi_info(self):\n",
    "        print(\"name of vehicle:\",self.name_of_vehicle)\n",
    "        \n",
    "class car (vehicle):\n",
    "    def seat_cap(self,seating_capacity):\n",
    "        self.seating_capacity=seating_capacity\n",
    "       \n",
    "        print( \"seating capacity of the car is :\", self.seating_capacity)\n",
    "    \n",
    "c=car(\"alto\",\"100km\" ,45) \n",
    "c.vehi_info()\n",
    "c.seat_cap(\"six ppl\")\n",
    "    \n"
   ]
  },
  {
   "cell_type": "code",
   "execution_count": 12,
   "id": "8cf88bb1-96bf-4024-bb9d-f1a5353d79d9",
   "metadata": {},
   "outputs": [
    {
     "name": "stdout",
     "output_type": "stream",
     "text": [
      "Banana\n",
      "color of the fruit : yellow\n",
      "it tastes: sweet\n",
      "Tomato\n",
      "color of the fruit : red\n",
      "it tastes: sour\n"
     ]
    }
   ],
   "source": [
    "'''Q3. What is multiple inheritance? Write a python code to demonstrate multiple inheritance.'''\n",
    "\n",
    "# when we are inherting properties from parent class to two or more child class ,such type of inheritance is \n",
    "# known as multiple inheritance\n",
    "\n",
    "class fruit () :\n",
    "    def __init__(self,color ,taste):\n",
    "        self.color=color\n",
    "        self.taste=taste\n",
    "        \n",
    "    def info(self):\n",
    "        print('color of the fruit :',self.color)\n",
    "        print(\"it tastes:\",self.taste)\n",
    "        \n",
    "print(\"Banana\")     \n",
    "\n",
    "class banana(fruit):\n",
    "    pass\n",
    "        \n",
    "Banana=banana(\"yellow\",\"sweet\") \n",
    "\n",
    "Banana.info()\n",
    "\n",
    "print(\"Tomato\")\n",
    "\n",
    "class tomato(fruit):\n",
    "    pass\n",
    "\n",
    "Tomato=tomato(\"red\",\"sour\")\n",
    "Tomato.info()"
   ]
  },
  {
   "cell_type": "code",
   "execution_count": 4,
   "id": "282e4549-4df5-4c68-b4cc-6cd0224370da",
   "metadata": {},
   "outputs": [
    {
     "data": {
      "text/plain": [
       "'ekdohteen'"
      ]
     },
     "execution_count": 4,
     "metadata": {},
     "output_type": "execute_result"
    }
   ],
   "source": [
    "'''Q4. What are getter and setter in python? Create a class and create a getter and a setter method in this\n",
    "class.'''\n",
    "\n",
    "class instagram():\n",
    "    def __init__(self,phone_num,email_id,password):\n",
    "        self.__phone_num= phone_num\n",
    "        self.__email_id = email_id\n",
    "        self.__password = password\n",
    "        \n",
    "    def set_password(self,password):\n",
    "        self.__password= \"invalid!!!!\" if len(password)<4  else password\n",
    "        \n",
    "    def get_passowrd(self):\n",
    "        return self.__password\n",
    "        \n",
    "sahil=instagram(907834,\"sah@gmail.com\",\"sksndlsnd\")\n",
    "\n",
    "sahil.set_password(\"ekdohteen\")\n",
    "\n",
    "sahil.get_passowrd()       "
   ]
  },
  {
   "cell_type": "code",
   "execution_count": 12,
   "id": "088fd2b8-1351-465e-925d-72faacba19ce",
   "metadata": {},
   "outputs": [
    {
     "data": {
      "text/plain": [
       "12"
      ]
     },
     "execution_count": 12,
     "metadata": {},
     "output_type": "execute_result"
    }
   ],
   "source": [
    "'''Q5.What is method overriding in python? Write a python code to demonstrate method overriding'''\n",
    "\n",
    "overriding basically means that when there is a method in the both classes parent and child then it is said that \n",
    "\n",
    "\n",
    "class parents ():\n",
    "    def __init__(self,num_of_teeths):\n",
    "        self.num_of_teeths = num_of_teeths\n",
    "    \n",
    "    def show(self):\n",
    "        return self.num_of_teeths\n",
    "    \n",
    "class child (parents):\n",
    "    def __init__(self,num_of_teeths):\n",
    "        self.num_of_teeths = num_of_teeths\n",
    "    \n",
    "    def show(self):\n",
    "        return self.num_of_teeths    \n",
    "    \n",
    "suraj=parents(32)\n",
    "rohan=child(12)\n",
    "\n",
    "suraj.show()\n",
    "rohan.show()\n",
    "\n",
    "\n",
    "\n"
   ]
  },
  {
   "cell_type": "code",
   "execution_count": null,
   "id": "5dbdf79c-055f-4191-9b8a-c2f12aa2bfdb",
   "metadata": {},
   "outputs": [],
   "source": []
  }
 ],
 "metadata": {
  "kernelspec": {
   "display_name": "Python 3 (ipykernel)",
   "language": "python",
   "name": "python3"
  },
  "language_info": {
   "codemirror_mode": {
    "name": "ipython",
    "version": 3
   },
   "file_extension": ".py",
   "mimetype": "text/x-python",
   "name": "python",
   "nbconvert_exporter": "python",
   "pygments_lexer": "ipython3",
   "version": "3.10.8"
  }
 },
 "nbformat": 4,
 "nbformat_minor": 5
}
