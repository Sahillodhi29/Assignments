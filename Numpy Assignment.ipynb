{
 "cells": [
  {
   "cell_type": "code",
   "execution_count": 18,
   "id": "c0b0b73e-cab4-4fa9-bdbe-6c8baaa4055e",
   "metadata": {},
   "outputs": [],
   "source": [
    "import numpy as np\n",
    "list_ = [ '1' , '2' , '3' , '4' , '5' ]\n",
    "array_list = np.array(object = list_)"
   ]
  },
  {
   "cell_type": "code",
   "execution_count": 19,
   "id": "a35134ff-3c53-4560-806f-801abf504fe0",
   "metadata": {},
   "outputs": [
    {
     "name": "stdout",
     "output_type": "stream",
     "text": [
      "the data type of variable list_ is : <class 'list'>\n",
      "the data type of array list_ is : <class 'numpy.ndarray'>\n"
     ]
    }
   ],
   "source": [
    "'''Q1. Is there any difference in the data type of variables list_ and array_list? If there is then write a code\n",
    "to print the data types of both the variables.'''\n",
    "\n",
    "print(\"the data type of variable list_ is :\",type(list_))\n",
    "\n",
    "print(\"the data type of array list_ is :\",type(array_list))"
   ]
  },
  {
   "cell_type": "code",
   "execution_count": 20,
   "id": "0813ab48-7e5f-46fa-81a5-3522e2457870",
   "metadata": {},
   "outputs": [
    {
     "name": "stdout",
     "output_type": "stream",
     "text": [
      "<class 'str'>\n",
      "<class 'str'>\n",
      "<class 'str'>\n",
      "<class 'str'>\n",
      "<class 'str'>\n",
      "<class 'numpy.str_'>\n",
      "<class 'numpy.str_'>\n",
      "<class 'numpy.str_'>\n",
      "<class 'numpy.str_'>\n",
      "<class 'numpy.str_'>\n"
     ]
    }
   ],
   "source": [
    "'''Q2. Write a code to print the data type of each and every element of both the variables list_ and\n",
    "arra_list.'''\n",
    "\n",
    "for i in list_:\n",
    "    print(type(i))\n",
    "    \n",
    "for i in array_list:\n",
    "    print(type(i))\n",
    "    \n",
    "    \n",
    "    "
   ]
  },
  {
   "cell_type": "code",
   "execution_count": 21,
   "id": "f41cc2fe-85a1-4137-89be-5ae036e9fe8d",
   "metadata": {},
   "outputs": [
    {
     "data": {
      "text/plain": [
       "'Will there be any difference in the data type of the elements present in both the variables, list_ and\\narra_list? If so then print the data types of each and every element present in both the variables, list_\\nand arra_list.'"
      ]
     },
     "execution_count": 21,
     "metadata": {},
     "output_type": "execute_result"
    }
   ],
   "source": [
    "'''Q3. Considering the following changes in the variable, array_list:'''\n",
    "\n",
    "array_list1 = np.array(object = list_, dtype = int)\n",
    "\n",
    "'''Will there be any difference in the data type of the elements present in both the variables, list_ and\n",
    "arra_list? If so then print the data types of each and every element present in both the variables, list_\n",
    "and arra_list.'''\n",
    "\n"
   ]
  },
  {
   "cell_type": "code",
   "execution_count": 22,
   "id": "902f393e-0b14-4f15-8ed3-b6427f34a725",
   "metadata": {},
   "outputs": [
    {
     "name": "stdout",
     "output_type": "stream",
     "text": [
      "<class 'str'>\n",
      "<class 'str'>\n",
      "<class 'str'>\n",
      "<class 'str'>\n",
      "<class 'str'>\n",
      "<class 'numpy.int64'>\n",
      "<class 'numpy.int64'>\n",
      "<class 'numpy.int64'>\n",
      "<class 'numpy.int64'>\n",
      "<class 'numpy.int64'>\n"
     ]
    }
   ],
   "source": [
    "for i in list_:\n",
    "    print(type(i))\n",
    "    \n",
    "\n",
    "for i in array_list1:\n",
    "    print(type(i))"
   ]
  },
  {
   "cell_type": "code",
   "execution_count": null,
   "id": "5d6a22e2-c304-4021-9815-71a7db941a19",
   "metadata": {},
   "outputs": [],
   "source": []
  },
  {
   "cell_type": "code",
   "execution_count": 23,
   "id": "20ab8389-174d-404f-bd35-430fb9b4ea84",
   "metadata": {},
   "outputs": [],
   "source": [
    "import numpy as np\n",
    "num_list = [ [ 1 , 2 , 3 ] , [ 4 , 5 , 6 ] ]\n",
    "num_array = np.array(object = num_list)"
   ]
  },
  {
   "cell_type": "code",
   "execution_count": 24,
   "id": "3737917a-d7f7-4332-ab0f-d04a1f755d65",
   "metadata": {},
   "outputs": [
    {
     "name": "stdout",
     "output_type": "stream",
     "text": [
      "(2, 3)\n",
      "6\n"
     ]
    }
   ],
   "source": [
    "'''Q4. Write a code to find the following characteristics of variable, num_array:\n",
    "(i) shape\n",
    "(ii) size'''\n",
    "\n",
    "#1.shape\n",
    "print(num_array.shape)\n",
    "\n",
    "#2. size\n",
    "print(num_array.size)"
   ]
  },
  {
   "cell_type": "code",
   "execution_count": 25,
   "id": "d019c8eb-f3ae-47af-9af5-b341f7ddd0e3",
   "metadata": {},
   "outputs": [
    {
     "data": {
      "text/plain": [
       "array([[0., 0., 0.],\n",
       "       [0., 0., 0.],\n",
       "       [0., 0., 0.]])"
      ]
     },
     "execution_count": 25,
     "metadata": {},
     "output_type": "execute_result"
    }
   ],
   "source": [
    "'''Q5. Write a code to create numpy array of 3*3 matrix containing zeros only, using a numpy array\n",
    "creation function.'''\n",
    "\n",
    "np.zeros((3,3))"
   ]
  },
  {
   "cell_type": "code",
   "execution_count": 26,
   "id": "9398d2bb-b786-4f23-8af2-f79b0b0d67c7",
   "metadata": {},
   "outputs": [
    {
     "data": {
      "text/plain": [
       "matrix([[1., 0., 0., 0., 0.],\n",
       "        [0., 1., 0., 0., 0.],\n",
       "        [0., 0., 1., 0., 0.],\n",
       "        [0., 0., 0., 1., 0.],\n",
       "        [0., 0., 0., 0., 1.]])"
      ]
     },
     "execution_count": 26,
     "metadata": {},
     "output_type": "execute_result"
    }
   ],
   "source": [
    "'''Q6. Create an identity matrix of shape (5,5) using numpy functions?'''\n",
    "\n",
    "identtiy_arr=np.identity(5)\n",
    "\n",
    "np.matrix(identtiy_arr)"
   ]
  },
  {
   "cell_type": "code",
   "execution_count": 27,
   "id": "4edab86e-797a-497c-8123-c6596002bd14",
   "metadata": {},
   "outputs": [
    {
     "name": "stdout",
     "output_type": "stream",
     "text": [
      "Data types in list_:\n",
      "Element: 1, Data Type: <class 'str'>\n",
      "Element: 2, Data Type: <class 'str'>\n",
      "Element: 3, Data Type: <class 'str'>\n",
      "Element: 4, Data Type: <class 'str'>\n",
      "Element: 5, Data Type: <class 'str'>\n",
      "\n",
      "Data types in array_list:\n",
      "Element: 1, Data Type: <class 'numpy.str_'>\n",
      "Element: 2, Data Type: <class 'numpy.str_'>\n",
      "Element: 3, Data Type: <class 'numpy.str_'>\n",
      "Element: 4, Data Type: <class 'numpy.str_'>\n",
      "Element: 5, Data Type: <class 'numpy.str_'>\n"
     ]
    }
   ],
   "source": [
    "import numpy as np\n",
    "\n",
    "list_ = ['1', '2', '3', '4', '5']\n",
    "array_list = np.array(object=list_)\n",
    "\n",
    "# Print data types of elements in list_\n",
    "print(\"Data types in list_:\")\n",
    "for element in list_:\n",
    "    print(f\"Element: {element}, Data Type: {type(element)}\")\n",
    "\n",
    "# Print data types of elements in array_list\n",
    "print(\"\\nData types in array_list:\")\n",
    "for element in array_list:\n",
    "    print(f\"Element: {element}, Data Type: {type(element)}\")\n"
   ]
  },
  {
   "cell_type": "code",
   "execution_count": null,
   "id": "d03f59fa-7a08-4ef8-8e41-5b6dbb025100",
   "metadata": {},
   "outputs": [],
   "source": []
  },
  {
   "cell_type": "code",
   "execution_count": null,
   "id": "27034786-676c-4922-a74c-a02ca1af8b1b",
   "metadata": {},
   "outputs": [],
   "source": []
  }
 ],
 "metadata": {
  "kernelspec": {
   "display_name": "Python 3 (ipykernel)",
   "language": "python",
   "name": "python3"
  },
  "language_info": {
   "codemirror_mode": {
    "name": "ipython",
    "version": 3
   },
   "file_extension": ".py",
   "mimetype": "text/x-python",
   "name": "python",
   "nbconvert_exporter": "python",
   "pygments_lexer": "ipython3",
   "version": "3.10.8"
  }
 },
 "nbformat": 4,
 "nbformat_minor": 5
}
