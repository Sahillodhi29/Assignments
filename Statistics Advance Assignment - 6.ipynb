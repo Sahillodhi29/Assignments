{
 "cells": [
  {
   "cell_type": "code",
   "execution_count": null,
   "id": "083513b1-cdbb-49d9-9670-288ee44cc2ba",
   "metadata": {},
   "outputs": [],
   "source": [
    "'''Q1. Explain the assumptions required to use ANOVA and provide examples of violations that could impact\n",
    "the validity of the results.'''\n",
    "'''\n",
    "assumptions in ANOVA-\n",
    "\n",
    "1. normality in sampling distribution of means\n",
    "\n",
    "2. absence of outliers\n",
    "\n",
    "3. homogenity in variances\n",
    "\n",
    "4. samples are independent and random.\n",
    "\n",
    "if we are violating even one or two these assumptions ,our result may not be appropriate'''"
   ]
  },
  {
   "cell_type": "code",
   "execution_count": null,
   "id": "68935ea0-f077-4bca-8527-2334dd1866a9",
   "metadata": {},
   "outputs": [],
   "source": [
    "'''Q2. What are the three types of ANOVA, and in what situations would each be used?'''\n",
    "'''\n",
    "types of ANOVA -\n",
    "\n",
    "1. One Way ANOVA- it is used when there is only one factors and atleast two levels , where the levels are independent.\n",
    "\n",
    "2. Repeated measures ANOVA - it is used when there is one factor and atleast two levels , where the levels are dependent.\n",
    "\n",
    "3. Factorial ANOVA- it is used when there are multiple factors and atleast two levels for each factor , \n",
    "where the levels can be either dependent or independent\n",
    "\n",
    "'''"
   ]
  },
  {
   "cell_type": "code",
   "execution_count": null,
   "id": "7abde988-acc6-4812-adbd-082320b2772c",
   "metadata": {},
   "outputs": [],
   "source": [
    "'''Q3. What is the partitioning of variance in ANOVA, and why is it important to understand this concept?'''\n",
    "'''\n",
    "partitioning of variance in ANOVA is used when we have to compare means of different data .\n",
    "we do it with the help of f stats and f test .\n",
    "\n",
    "it is important to understand this concept as it helps us to get to a meaningful conclusions about the data .\n",
    "'''"
   ]
  },
  {
   "cell_type": "code",
   "execution_count": null,
   "id": "0219bae5-b54f-4630-bfb6-1203448a55bd",
   "metadata": {},
   "outputs": [],
   "source": [
    "'''Q4. How would you calculate the total sum of squares (SST), explained sum of squares (SSE), and residual\n",
    "sum of squares (SSR) in a one-way ANOVA using Python?'''\n",
    "'''\n",
    " total sum of squares (SST) can be calculated by the formula -\n",
    "    \n",
    "    summation of Y**2 - T**2/N \n",
    "    where Y is values of all sample datas\n",
    "    T is total sum of values of data \n",
    "    N is total number of datas present .\n",
    "    \n",
    "    or by addind sum of squares between data and sum of squares within data.\n",
    "    \n",
    "sum of squares (SSE) -\n",
    "\n",
    "it is an important value which help us to find the value of F which help us in hypthesis testing .'''\n",
    "\n"
   ]
  },
  {
   "cell_type": "code",
   "execution_count": null,
   "id": "aa881786-8fa7-46a3-8c48-b79d673501ad",
   "metadata": {},
   "outputs": [],
   "source": [
    "'''Q6. Suppose you conducted a one-way ANOVA and obtained an F-statistic of 5.23 and a p-value of 0.02.\n",
    "What can you conclude about the differences between the groups, and how would you interpret these\n",
    "results?'''\n",
    "'''\n",
    "Null Hypothesis (H0): The null hypothesis in ANOVA states that there are no significant differences between the means \n",
    "of the groups .\n",
    "\n",
    "Alternative Hypothesis (H1): The alternative hypothesis suggests that at least one group mean is different from the others.\n",
    "\n",
    "since p value for F stats is so low , hence we eill reject the null hypothesis\n",
    "\n",
    "hence we can conclude that at least one group mean is different from the others.  '''"
   ]
  },
  {
   "cell_type": "code",
   "execution_count": 3,
   "id": "d4fafa32-0b64-4798-87b6-260fb37e8ab0",
   "metadata": {},
   "outputs": [
    {
     "name": "stdout",
     "output_type": "stream",
     "text": [
      "Reject the null hypothesis.\n",
      "F-statistic: 256.4363381552599\n",
      "P-value: 4.859838487777316e-47\n",
      "There are significant differences between the mean weight loss of the three diets.\n"
     ]
    }
   ],
   "source": [
    "'''Q9. A researcher wants to compare the mean weight loss of three diets: A, B, and C. They collect data from\n",
    "50 participants who were randomly assigned to one of the diets. Conduct a one-way ANOVA using Python\n",
    "to determine if there are any significant differences between the mean weight loss of the three diets.\n",
    "Report the F-statistic and p-value, and interpret the results.'''\n",
    "\n",
    "import numpy as np\n",
    "from scipy import stats\n",
    "\n",
    "# Sample data for weight loss \n",
    "diet_A = [2.1, 1.8, 2.5, 2.3, 1.9, 2.2, 2.0, 2.4, 2.7, 1.5, 2.6, 1.7, 2.0, 2.3, 1.9, 2.1, 2.4, 2.2, 2.5, 1.8, 2.0, 1.6, 2.3, 2.2, 1.8, 2.4, 2.0, 2.6, 2.1, 2.5, 2.3, 2.2, 2.7, 1.9, 2.0, 2.4, 1.8, 2.5, 2.3, 2.1, 2.2, 2.6, 1.7, 1.9, 2.3, 2.4, 2.0]\n",
    "\n",
    "diet_B = [1.5, 1.2, 1.8, 1.3, 1.4, 1.6, 1.9, 1.1, 1.7, 1.4, 1.3, 1.5, 1.8, 1.4, 1.2, 1.7, 1.6, 1.3, 1.5, 1.2, 1.6, 1.9, 1.7, 1.3, 1.4, 1.8, 1.6, 1.5, 1.4, 1.7, 1.3, 1.2, 1.6, 1.5, 1.9, 1.3, 1.2, 1.4, 1.7, 1.8, 1.6, 1.3, 1.5, 1.9, 1.4, 1.2, 1.3, 1.6]\n",
    "\n",
    "diet_C = [0.9, 1.0, 1.1, 1.2, 1.0, 1.2, 0.8, 1.1, 1.3, 0.9, 1.0, 1.1, 1.2, 1.0, 1.2, 0.8, 1.1, 1.3, 0.9, 1.0, 1.1, 1.2, 1.0, 1.2, 0.8, 1.1, 1.3, 0.9, 1.0, 1.1, 1.2, 1.0, 1.2, 0.8, 1.1, 1.3, 0.9, 1.0, 1.1, 1.2, 1.0, 1.2, 0.8, 1.1, 1.3]\n",
    "\n",
    "\n",
    "f_statistic, p_value = stats.f_oneway(diet_A, diet_B, diet_C)\n",
    "\n",
    "\n",
    "alpha = 0.05  # Significance level\n",
    "\n",
    "if p_value < alpha:\n",
    "    print(\"Reject the null hypothesis.\")\n",
    "    print(f\"F-statistic: {f_statistic}\")\n",
    "    print(f\"P-value: {p_value}\")\n",
    "    print(\"There are significant differences between the mean weight loss of the three diets.\")\n",
    "else:\n",
    "    print(\"Fail to reject the null hypothesis.\")\n",
    "    print(f\"F-statistic: {f_statistic}\")\n",
    "    print(f\"P-value: {p_value}\")\n",
    "    print(\"There is no significant difference between the mean weight loss of the three diets.\")\n"
   ]
  },
  {
   "cell_type": "code",
   "execution_count": null,
   "id": "9f086fd6-8fa7-41a1-b7ec-05e6086791c2",
   "metadata": {},
   "outputs": [],
   "source": []
  },
  {
   "cell_type": "code",
   "execution_count": null,
   "id": "e8aa94a8-9922-43f8-9e37-2d3222bec68f",
   "metadata": {},
   "outputs": [],
   "source": []
  },
  {
   "cell_type": "code",
   "execution_count": null,
   "id": "f4c23e10-d371-4fd0-8c1a-0e2e1dec2ed8",
   "metadata": {},
   "outputs": [],
   "source": []
  }
 ],
 "metadata": {
  "kernelspec": {
   "display_name": "Python 3 (ipykernel)",
   "language": "python",
   "name": "python3"
  },
  "language_info": {
   "codemirror_mode": {
    "name": "ipython",
    "version": 3
   },
   "file_extension": ".py",
   "mimetype": "text/x-python",
   "name": "python",
   "nbconvert_exporter": "python",
   "pygments_lexer": "ipython3",
   "version": "3.10.8"
  }
 },
 "nbformat": 4,
 "nbformat_minor": 5
}
