{
 "cells": [
  {
   "cell_type": "code",
   "execution_count": null,
   "id": "03b09dc1-19a8-42b1-896f-e569c2328c25",
   "metadata": {},
   "outputs": [],
   "source": [
    "'''Q1. Explain GET and POST methods.'''\n",
    "\n",
    "'''GET and POST both methods are used to get the data but they are differentiated by the way of getting the output\n",
    "or data.\n",
    "\n",
    "By GET method we get the data through the url whereas . example - searching something on google\n",
    "\n",
    "by POST method we get the data through the body . exapmle - inerting email or phone number in GMAIL. '''"
   ]
  },
  {
   "cell_type": "code",
   "execution_count": null,
   "id": "f9ee3296-8304-44c9-a421-61fad9cd8a80",
   "metadata": {},
   "outputs": [],
   "source": [
    "'''Q2. Why is request used in Flask?'''\n",
    "\n",
    "'''request is used in flask to pass arguments for which web will give the output. '''\n",
    "\n"
   ]
  },
  {
   "cell_type": "code",
   "execution_count": null,
   "id": "3e2b9ffb-cdd1-451b-b5e8-29f327ddbd8c",
   "metadata": {},
   "outputs": [],
   "source": [
    "'''Q3. Why is redirect() used in Flask?'''\n",
    "\n",
    "'''redirect() is used in flask to tell the browser  to go to different url and give ouput of that url .'''"
   ]
  },
  {
   "cell_type": "code",
   "execution_count": null,
   "id": "01a51fb3-aa4b-44e5-b9d5-cfeac70822c1",
   "metadata": {},
   "outputs": [],
   "source": [
    "'''Q4. What are templates in Flask? Why is the render_template() function used?'''\n",
    "\n",
    "'''templates are the files that have HTML  markup and they are created so that we can use them as templates rather than\n",
    "directly putting it into python code .\n",
    "\n",
    "render_template() is used to use html templates by giving name of template as input.'''\n"
   ]
  },
  {
   "cell_type": "code",
   "execution_count": null,
   "id": "7326dfef-c1c9-4f58-85d6-e177a8774e17",
   "metadata": {},
   "outputs": [],
   "source": [
    "'''Q5. Create a simple API. Use Postman to test it. Attach the screenshot of the output in the Jupyter Notebook.'''\n",
    "\n"
   ]
  }
 ],
 "metadata": {
  "kernelspec": {
   "display_name": "Python 3 (ipykernel)",
   "language": "python",
   "name": "python3"
  },
  "language_info": {
   "codemirror_mode": {
    "name": "ipython",
    "version": 3
   },
   "file_extension": ".py",
   "mimetype": "text/x-python",
   "name": "python",
   "nbconvert_exporter": "python",
   "pygments_lexer": "ipython3",
   "version": "3.10.8"
  }
 },
 "nbformat": 4,
 "nbformat_minor": 5
}
