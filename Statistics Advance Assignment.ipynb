{
 "cells": [
  {
   "cell_type": "code",
   "execution_count": null,
   "id": "0b31db75-2568-4c7e-bcd7-1512556386e2",
   "metadata": {},
   "outputs": [],
   "source": [
    "'''Q1. What is the Probability density function?'''\n",
    "\n",
    "'''it gives the probability denisty in accordance with dataset\n",
    "\n",
    "it is used for continuous random variable  '''"
   ]
  },
  {
   "cell_type": "code",
   "execution_count": null,
   "id": "d9d5b0fb-4c66-43f5-8dc4-85ba21157c72",
   "metadata": {},
   "outputs": [],
   "source": [
    "'''Q2. What are the types of Probability distribution?'''\n",
    "'''\n",
    "1.bernoulli's distribution\n",
    "\n",
    "2.binomial distribution\n",
    "\n",
    "3.poisson distribution\n",
    "\n",
    "4.log normal distribution\n",
    "\n",
    "5.uniform distribution\n",
    "\n",
    "6.normal/gaussian distribution\n",
    "'''\n"
   ]
  },
  {
   "cell_type": "code",
   "execution_count": 3,
   "id": "e9b40cb7-e8f7-448a-8ebf-c99d128a71b2",
   "metadata": {},
   "outputs": [
    {
     "data": {
      "text/plain": [
       "0.24197072451914337"
      ]
     },
     "execution_count": 3,
     "metadata": {},
     "output_type": "execute_result"
    }
   ],
   "source": [
    "'''Q3. Write a Python function to calculate the probability density function of a normal distribution with \n",
    "given mean and standard deviation at a given point.'''\n",
    "\n",
    "import math\n",
    "\n",
    "def normal_pdf(x,mean,std_dev):\n",
    "    exponent = -(x - mean)**2 / (2 * std_dev**2)\n",
    "    pdf = 1 / (math.sqrt(2 * math.pi) * std_dev) * math.exp(exponent)\n",
    "    return pdf\n",
    "\n",
    "mean = 0.0\n",
    "std_dev = 1.0\n",
    "x = 1.0\n",
    "normal_pdf(x, mean, std_dev)\n"
   ]
  },
  {
   "cell_type": "code",
   "execution_count": null,
   "id": "52fc91f9-4231-492f-af5f-31c7e9a31056",
   "metadata": {},
   "outputs": [],
   "source": [
    "'''Q4. What are the properties of Binomial distribution? Give two examples of events where binomial \n",
    "distribution can be applied.'''\n",
    "'''\n",
    "properties of Binomial distribution-\n",
    "\n",
    "1. it is used for discrete random variable , hence pmf is used \n",
    "2.the outcomes of experiments are binary \n",
    "3.we do n number of trials in this distribution\n",
    "\n",
    "examples-\n",
    "\n",
    "1.tossing a coin 10 times \n",
    "2.passing a test 5 times\n",
    "\n",
    "'''\n",
    "\n"
   ]
  },
  {
   "cell_type": "code",
   "execution_count": 4,
   "id": "55a1874d-5ad4-4e7b-b05e-092fdefcd696",
   "metadata": {},
   "outputs": [
    {
     "data": {
      "image/png": "[encoded data removed]",
      "text/plain": [
       "<Figure size 640x480 with 1 Axes>"
      ]
     },
     "metadata": {},
     "output_type": "display_data"
    }
   ],
   "source": [
    "'''Q5. Generate a random sample of size 1000 from a binomial distribution with probability of success 0.4 \n",
    "and plot a histogram of the results using matplotlib'''\n",
    "\n",
    "import numpy as np\n",
    "import matplotlib.pyplot as plt\n",
    "\n",
    "n=1\n",
    "p=0.4\n",
    "sample_size=1000\n",
    "bino_sample=np.random.binomial(n, p, sample_size)\n",
    "\n",
    "plt.hist(bino_sample, bins=25, density=True, alpha=0.9, color='b')\n",
    "plt.title('Histogram of Binomial Distribution')\n",
    "plt.xlabel('Number of Successes')\n",
    "plt.ylabel('Probability Density')\n",
    "plt.grid(True)\n",
    "plt.show()\n"
   ]
  },
  {
   "cell_type": "code",
   "execution_count": 1,
   "id": "dd946f90-ce1a-49ac-97b4-efc92fed1f67",
   "metadata": {},
   "outputs": [
    {
     "name": "stdout",
     "output_type": "stream",
     "text": [
      "0.3208471988621341\n"
     ]
    }
   ],
   "source": [
    "'''Q6. Write a Python function to calculate the cumulative distribution function of a Poisson distribution \n",
    "with given mean at a given point.'''\n",
    "\n",
    "import math\n",
    "\n",
    "def poisson_cdf(mean, k):\n",
    "    if mean < 0 or k < 0:\n",
    "        raise ValueError(\"Both mean and k must be non-negative\")\n",
    "\n",
    "    cdf = 0.0\n",
    "    for i in range(k + 1):\n",
    "        cdf += (math.exp(-mean) * mean**i) / math.factorial(i)\n",
    "    \n",
    "    return cdf\n",
    "\n",
    "mean = 3.5  \n",
    "k = 2  \n",
    "\n",
    "cdf = poisson_cdf(mean, k)\n",
    "\n",
    "print(cdf)"
   ]
  },
  {
   "cell_type": "code",
   "execution_count": null,
   "id": "29a53f99-f294-4305-8e10-0ab00741faa8",
   "metadata": {},
   "outputs": [],
   "source": [
    "'''Q7. How Binomial distribution different from Poisson distribution?'''\n",
    "\n",
    "'''\n",
    "in binomial distribution we do n number of trials of an experiments whose outcomes are binary \n",
    "whereas in poisson distribution it represents the number of events occur in a fixed time interval.\n",
    "'''"
   ]
  },
  {
   "cell_type": "code",
   "execution_count": 3,
   "id": "c688ad5f-47b8-4336-960e-a1aa8f187235",
   "metadata": {},
   "outputs": [
    {
     "name": "stdout",
     "output_type": "stream",
     "text": [
      "5.058\n",
      "5.085721721721722\n"
     ]
    }
   ],
   "source": [
    "'''Q8. Generate a random sample of size 1000 from a Poisson distribution with mean 5 and calculate the \n",
    "sample mean and variance.'''\n",
    "\n",
    "import numpy as np\n",
    "\n",
    "mean = 5\n",
    "sample_size = 1000\n",
    "\n",
    "random_sample = np.random.poisson(mean, sample_size)\n",
    "\n",
    "sample_mean = np.mean(random_sample)\n",
    "sample_variance = np.var(random_sample, ddof=1)\n",
    "\n",
    "print(sample_mean)\n",
    "print(sample_variance)"
   ]
  },
  {
   "cell_type": "code",
   "execution_count": null,
   "id": "78c9c570-302c-40ae-8879-df820f126956",
   "metadata": {},
   "outputs": [],
   "source": [
    "'''Q9. How mean and variance are related in Binomial distribution and Poisson distribution'''\n",
    "\n",
    "'''Binomial distribution\n",
    "\n",
    "variance= q*mean\n",
    "\n",
    "\n",
    "Poisson distribution\n",
    "\n",
    "variance= mean '''\n",
    "\n"
   ]
  },
  {
   "cell_type": "code",
   "execution_count": null,
   "id": "8c903ae7-6552-46e6-8acd-79632a9098df",
   "metadata": {},
   "outputs": [],
   "source": [
    "'''Q10. In normal distribution with respect to mean position, where does the least frequent data appear?'''\n",
    "\n",
    "the least frequent data appear at the tails of distribution. after the second standard deviation the proabability of data to \n",
    "appear is very low (0.)"
   ]
  }
 ],
 "metadata": {
  "kernelspec": {
   "display_name": "Python 3 (ipykernel)",
   "language": "python",
   "name": "python3"
  },
  "language_info": {
   "codemirror_mode": {
    "name": "ipython",
    "version": 3
   },
   "file_extension": ".py",
   "mimetype": "text/x-python",
   "name": "python",
   "nbconvert_exporter": "python",
   "pygments_lexer": "ipython3",
   "version": "3.10.8"
  }
 },
 "nbformat": 4,
 "nbformat_minor": 5
}
